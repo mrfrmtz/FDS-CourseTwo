{
 "cells": [
  {
   "cell_type": "markdown",
   "id": "0c64a342-fe4a-4d2d-8ab4-3db49e449855",
   "metadata": {},
   "source": [
    "# Machine Learning I Homework"
   ]
  },
  {
   "cell_type": "markdown",
   "id": "376144d5-b17e-4f6e-b0ee-b889a8dcb808",
   "metadata": {},
   "source": [
    "### 1. (Fake) Titanic Data Classification."
   ]
  },
  {
   "cell_type": "markdown",
   "id": "dce16bd0-f868-4eff-bc24-97a8b4f9d307",
   "metadata": {},
   "source": [
    "The file 'titanicMachLearn.csv' contains (fake) data showing an SES (socioeconomic status) measure, fare paid for the ticket, and whether the person survived or not."
   ]
  },
  {
   "cell_type": "code",
   "execution_count": 6,
   "id": "c3473a39",
   "metadata": {},
   "outputs": [],
   "source": [
    "import numpy as np\n",
    "import pandas as pd\n",
    "import matplotlib.pyplot as plt\n",
    "from sklearn.datasets import make_regression              # for simulating data\n",
    "from sklearn.model_selection import train_test_split      # splitting training and test data\n",
    "from sklearn.linear_model import LinearRegression         # making the linear predictor model\n",
    "from sklearn.metrics import mean_squared_error, r2_score\n",
    "from sklearn.neighbors import KNeighborsClassifier\n",
    "\n",
    "titanic =  pd.read_csv('./data/titanicMachLearn.csv')"
   ]
  },
  {
   "cell_type": "markdown",
   "id": "274bda5b-d8ec-4293-9ab7-c11e458b4a1a",
   "metadata": {},
   "source": [
    "**1a.** Do a k=3 nearest neighbor classification on the data using an 80/20 training/test split. Summarize the performance of the classifier."
   ]
  },
  {
   "cell_type": "code",
   "execution_count": 11,
   "id": "ef411a15-4d40-4b80-a652-dc57b28df154",
   "metadata": {},
   "outputs": [
    {
     "name": "stdout",
     "output_type": "stream",
     "text": [
      "Accuracy Score: 1.00%\n",
      "              precision    recall  f1-score   support\n",
      "\n",
      "           0       1.00      1.00      1.00       105\n",
      "           1       1.00      1.00      1.00        74\n",
      "\n",
      "    accuracy                           1.00       179\n",
      "   macro avg       1.00      1.00      1.00       179\n",
      "weighted avg       1.00      1.00      1.00       179\n",
      "\n"
     ]
    },
    {
     "name": "stderr",
     "output_type": "stream",
     "text": [
      "/opt/anaconda3/lib/python3.9/site-packages/sklearn/neighbors/_classification.py:228: FutureWarning: Unlike other reduction functions (e.g. `skew`, `kurtosis`), the default behavior of `mode` typically preserves the axis it acts along. In SciPy 1.11.0, this behavior will change: the default value of `keepdims` will become False, the `axis` over which the statistic is taken will be eliminated, and the value None will no longer be accepted. Set `keepdims` to True or False to avoid this warning.\n",
      "  mode, _ = stats.mode(_y[neigh_ind, k], axis=1)\n"
     ]
    }
   ],
   "source": [
    "# set data\n",
    "X = titanic[['SES', 'Fare']] \n",
    "y = titanic['Survived']\n",
    "\n",
    "# 80/20 training/test split\n",
    "X_train, X_test, y_train, y_test = train_test_split(X, y, test_size=0.2, random_state=42)\n",
    "\n",
    "# create and train classifier\n",
    "k = 3\n",
    "knn = KNeighborsClassifier(n_neighbors=k)\n",
    "\n",
    "knn.fit(X_train, y_train)\n",
    "y_pred = knn.predict(X_test)\n",
    "\n",
    "# accuracy\n",
    "from sklearn.metrics import accuracy_score\n",
    "from sklearn.metrics import classification_report\n",
    "\n",
    "acc_score = accuracy_score(y_test, y_pred)\n",
    "print(f\"Accuracy Score: {acc_score:.2f}%\")\n",
    "\n",
    "cls_report = classification_report(y_test, y_pred)\n",
    "print(cls_report)"
   ]
  },
  {
   "cell_type": "markdown",
   "id": "5551a5f7-d2ec-4027-8411-df68e7bedff0",
   "metadata": {},
   "source": [
    "**1b.** Make a scatter plot of the data with color showing the survival status. Does the plot intuitivly agree with the performance of your classifier?"
   ]
  },
  {
   "cell_type": "code",
   "execution_count": null,
   "id": "625e395a-039b-4013-a054-74e08ef80434",
   "metadata": {},
   "outputs": [],
   "source": []
  },
  {
   "cell_type": "markdown",
   "id": "e37a7fb8-8437-4290-b109-ca57070e01d4",
   "metadata": {},
   "source": [
    "### 2. Iris Data Classification."
   ]
  },
  {
   "cell_type": "markdown",
   "id": "91f9e7f2-36c0-4bb9-a1d2-d53057a4a8a2",
   "metadata": {},
   "source": [
    "Do a nearest neighbors classification on the iris data using the 2 variables you think would work best based on the pair-pair plot we did in class (i.e. don't use the exact same variables we used in the in-class tutorial).\n",
    "\n",
    "Compare the results with the results we got in class using the first two variables."
   ]
  },
  {
   "cell_type": "code",
   "execution_count": null,
   "id": "490fef01-a4d8-4a71-b869-f4b04204eb99",
   "metadata": {},
   "outputs": [],
   "source": []
  }
 ],
 "metadata": {
  "kernelspec": {
   "display_name": "Python 3 (ipykernel)",
   "language": "python",
   "name": "python3"
  },
  "language_info": {
   "codemirror_mode": {
    "name": "ipython",
    "version": 3
   },
   "file_extension": ".py",
   "mimetype": "text/x-python",
   "name": "python",
   "nbconvert_exporter": "python",
   "pygments_lexer": "ipython3",
   "version": "3.9.13"
  }
 },
 "nbformat": 4,
 "nbformat_minor": 5
}
