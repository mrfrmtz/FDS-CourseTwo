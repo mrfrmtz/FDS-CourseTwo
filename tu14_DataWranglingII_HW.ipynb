{
 "cells": [
  {
   "cell_type": "markdown",
   "id": "c41edd6e",
   "metadata": {},
   "source": [
    "# Data Wrangling Homework"
   ]
  },
  {
   "cell_type": "markdown",
   "id": "96d39682",
   "metadata": {},
   "source": [
    "In the spirit of warming up for final projects, this weeks homework will be somewhat open-ended.\n",
    "Actually, it will more like closed-ended and open-middled…\n",
    "\n",
    "Different doctors with different backgrounds, trained in different places, etc., might behave differently. In other words, one doctor might have various biases relative to another. We hope not, at\n",
    "least in critical situations, but doctors are people too.\n",
    "\n",
    "Your job is to determine whether the 4 doctors in our data set are behaving essentially the same with\n",
    "respect to measuring clump thickness, bland chromatin, and diagnosis of tumor type, or whether\n",
    "any one of them seems to be different.\n",
    "\n",
    "The submission should be a pdf that makes your case as though to a boss/hospital administrator;\n",
    "it should make the case in enough detail to be convincing, but not in such detail that your boss\n",
    "will hate you. For example, one doctor-to-doctor comparison can be described in some detail, but\n",
    "the rest can be summarized with “Similar comparisons were made for …”\n",
    "\n",
    "Your final conclusion should be whether 1) everything seems okay with respect to the doctors or\n",
    "2) if there are any red flags that might warrent further scrutiny.\n",
    "\n",
    "Do the analysis with an open mind. It’s not good to enter an analysis with a pre-conceived notion\n",
    "of what you may or may not find."
   ]
  },
  {
   "cell_type": "code",
   "execution_count": null,
   "id": "755b1ef2",
   "metadata": {},
   "outputs": [],
   "source": []
  }
 ],
 "metadata": {
  "kernelspec": {
   "display_name": "Python 3 (ipykernel)",
   "language": "python",
   "name": "python3"
  },
  "language_info": {
   "codemirror_mode": {
    "name": "ipython",
    "version": 3
   },
   "file_extension": ".py",
   "mimetype": "text/x-python",
   "name": "python",
   "nbconvert_exporter": "python",
   "pygments_lexer": "ipython3",
   "version": "3.9.13"
  }
 },
 "nbformat": 4,
 "nbformat_minor": 5
}
