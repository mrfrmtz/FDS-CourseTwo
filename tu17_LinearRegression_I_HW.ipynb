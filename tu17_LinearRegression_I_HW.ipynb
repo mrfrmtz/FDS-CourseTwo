{
 "cells": [
  {
   "cell_type": "markdown",
   "id": "4e2b5bb0",
   "metadata": {},
   "source": [
    "# Linear Regression I: Homework"
   ]
  },
  {
   "cell_type": "markdown",
   "id": "b6ff8cbb",
   "metadata": {},
   "source": [
    "### Question 1:"
   ]
  },
  {
   "cell_type": "markdown",
   "id": "0be981a5",
   "metadata": {},
   "source": [
    "We have used the following code to generate different datasets with the same underlying properties but different noise ($\\epsilon$). \n",
    "\n",
    "To change the noise but not the underlying function, we have set `NumPy`'s `random.seed` to a different value (e.g., 42, 100, 34, etc). \n",
    "\n",
    "Each different random seed generated a slightly different dataset for us. Using this approach each dataset is generated using the same underlying function (a quadratic). \n",
    "\n",
    "In practice, all datasets are generated using the same properties of the function, such as, the min and max `x` data, the same number of datapoints (20) and the same scale of noise (the noise will be different but the scale of the noise will be the same, set to 5 in the code below). "
   ]
  },
  {
   "cell_type": "code",
   "execution_count": 2,
   "id": "464704e4",
   "metadata": {},
   "outputs": [],
   "source": [
    "import numpy as np\n",
    "\n",
    "np.random.seed(42)\n",
    "x = np.linspace(-5, 5, num=20)\n",
    "y = 2*x**2 - x + 1 + np.random.normal(scale=5, size=len(x))"
   ]
  },
  {
   "cell_type": "markdown",
   "id": "be051b38",
   "metadata": {},
   "source": [
    "Your task is to use and modify that code above so as to generate 20 datasets with different noise characteristics, yet generated using the same underlying function. \n",
    "\n",
    "For each dataset:\n",
    "\n",
    "* Fit it with line and compute SSE\n",
    "* Fit it with parabola and compute SSE\n",
    "* Fit it with 12th-order polynomial and computet the SSE\n",
    "* For each type of model used to fit the datasets, make a plot of the mean and STD of the SSEs obtained across all datasets.\n",
    "* Describe the result obtained also making sure to answer the following questions:\n",
    "    * Which model fit has a smaller SSE on average?\n",
    "    * Which model has a more variable SSE across repeats? Why?\n",
    "\n",
    "Make sure you are approaching your coding using the best practices learned in class so far. Make proficient use of function definitions so as to limite repetitions in your code."
   ]
  },
  {
   "cell_type": "markdown",
   "id": "d9ea7da9",
   "metadata": {},
   "source": [
    "### Question 2"
   ]
  },
  {
   "cell_type": "markdown",
   "id": "ad92ea2f",
   "metadata": {},
   "source": []
  },
  {
   "cell_type": "code",
   "execution_count": 5,
   "id": "00e12a26",
   "metadata": {},
   "outputs": [
    {
     "data": {
      "image/png": "[encoded data removed]",
      "text/plain": [
       "<Figure size 640x480 with 1 Axes>"
      ]
     },
     "metadata": {},
     "output_type": "display_data"
    }
   ],
   "source": [
    "import matplotlib.pyplot as plt\n",
    "\n",
    "np.random.seed(30)\n",
    "x = np.linspace(-3, 10, num=30)\n",
    "y = 2*x**2 - x + 1 + np.random.normal(scale=9, size=len(x))\n",
    "\n",
    "plt.scatter(x,y, color='red', label = 'data')\n",
    "plt.legend()\n",
    "plt.show()"
   ]
  },
  {
   "cell_type": "markdown",
   "id": "dcebc6e9",
   "metadata": {},
   "source": [
    "#### Q 2.1\n",
    "\n",
    "Fit the dataset using a:\n",
    "* second order polynomial (save the coefficients of this model in variable `q_coeffs`)\n",
    "* third order polynomial (save the coefficients of this model in variable `t_coeffs`)\n",
    "* Compute the SSE for each model and determine which model is better, motivate your choice with numbers, text and plots."
   ]
  },
  {
   "cell_type": "code",
   "execution_count": null,
   "id": "824b34b8",
   "metadata": {},
   "outputs": [],
   "source": []
  },
  {
   "cell_type": "markdown",
   "id": "a1280405",
   "metadata": {},
   "source": [
    "#### Q 2.2\n",
    "\n",
    "Let's now create a new x for us:"
   ]
  },
  {
   "cell_type": "code",
   "execution_count": null,
   "id": "90d2b461",
   "metadata": {},
   "outputs": [],
   "source": [
    "x_new = np.linspace(-10, 10, num=30)"
   ]
  },
  {
   "cell_type": "markdown",
   "id": "3221cbb7",
   "metadata": {},
   "source": [
    "Your task is to use `q_coeffs` and `t_coeffs` in combination to this new `x_new` values to evaluate the model outside of the original range of the data (Hint: You should cosinder using  `polyval` to implement this).\n",
    "\n",
    "Note that above we are asking you to evaluate the original model fit within a certain range of x-values onto a new range of values. In a certain ways, we are asking you to use the models to make predictions of data outside of the original range of values. You are predicting data really **out there**!\n",
    "\n",
    "Next, do the following:\n",
    "* Plot the orginal x and the oriignal y (the orignal data) as black symbols.\n",
    "* Using different colors, plot on top of the same figure, the models fit over the new range of values (the models used to make the prediction). [Just to make sure, this plot should have data plus two curves]\n",
    "* Describe what you see:\n",
    "    * do both model seem reasonably good at making the prediction?\n",
    "    * which model seems better and why?\n",
    "    * which model had a better SSE? \n",
    "    * is the result with the SSE consistent with what it appears here from the plot?\n",
    "    * how do you interpret what it is going on here?\n"
   ]
  }
 ],
 "metadata": {
  "kernelspec": {
   "display_name": "Python 3 (ipykernel)",
   "language": "python",
   "name": "python3"
  },
  "language_info": {
   "codemirror_mode": {
    "name": "ipython",
    "version": 3
   },
   "file_extension": ".py",
   "mimetype": "text/x-python",
   "name": "python",
   "nbconvert_exporter": "python",
   "pygments_lexer": "ipython3",
   "version": "3.9.13"
  }
 },
 "nbformat": 4,
 "nbformat_minor": 5
}
