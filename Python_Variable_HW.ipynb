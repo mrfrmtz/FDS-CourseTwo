{
 "cells": [
  {
   "cell_type": "markdown",
   "id": "a4755f03",
   "metadata": {},
   "source": [
    "# Variables homework"
   ]
  },
  {
   "cell_type": "markdown",
   "id": "a519fdac",
   "metadata": {},
   "source": [
    "Advice for homework and life: try, play, experiment; don't Google until you get frustrated.\n",
    "\n",
    "You can't break anything with Python, so, if you want to figure something out, try until you get it to work. You'll learn more and you'll remember it longer and more deeply. "
   ]
  },
  {
   "cell_type": "markdown",
   "id": "935435c3",
   "metadata": {},
   "source": [
    "---"
   ]
  },
  {
   "cell_type": "markdown",
   "id": "672eb676",
   "metadata": {},
   "source": [
    "In general, the homework question will consist of the question in a markdown cell, a code cell for you to play in, repeating as needed,  and a final markdown cell for your answer or explanation *that will be in italics*.\n",
    "\n",
    "But do feel free to add or delete cells as you feel appropriate. The important thing is you get your point across!"
   ]
  },
  {
   "cell_type": "markdown",
   "id": "fd5a0577",
   "metadata": {},
   "source": [
    "---"
   ]
  },
  {
   "cell_type": "markdown",
   "id": "8cac38b8",
   "metadata": {},
   "source": [
    "### 1."
   ]
  },
  {
   "cell_type": "markdown",
   "id": "41ebcb4a",
   "metadata": {},
   "source": [
    "Make an integer: `theAnswer = 42`.\n",
    "Now make another: `anotherNameForTheAnswer = 42`\n",
    "(You don't have to use these exactly, but make sure you have two different names referring to the same exact value.)"
   ]
  },
  {
   "cell_type": "code",
   "execution_count": 2,
   "id": "792d077c",
   "metadata": {},
   "outputs": [],
   "source": [
    "theans = 88\n",
    "anotherans = 88"
   ]
  },
  {
   "cell_type": "markdown",
   "id": "110df7e7",
   "metadata": {},
   "source": [
    "Get and note the ID numbers for both."
   ]
  },
  {
   "cell_type": "code",
   "execution_count": 3,
   "id": "0bca1e61",
   "metadata": {},
   "outputs": [
    {
     "data": {
      "text/plain": [
       "4351043184"
      ]
     },
     "execution_count": 3,
     "metadata": {},
     "output_type": "execute_result"
    }
   ],
   "source": [
    "id(theans)"
   ]
  },
  {
   "cell_type": "code",
   "execution_count": 4,
   "id": "c1e39775",
   "metadata": {},
   "outputs": [
    {
     "data": {
      "text/plain": [
       "4351043184"
      ]
     },
     "execution_count": 4,
     "metadata": {},
     "output_type": "execute_result"
    }
   ],
   "source": [
    "id(anotherans)"
   ]
  },
  {
   "cell_type": "markdown",
   "id": "3b3616a6",
   "metadata": {},
   "source": [
    "Assign each name to a completely different number and confirm that each name now refers to an object with a new ID."
   ]
  },
  {
   "cell_type": "code",
   "execution_count": 5,
   "id": "19c87f48",
   "metadata": {},
   "outputs": [],
   "source": [
    "theans = 48\n",
    "anotherans = 84"
   ]
  },
  {
   "cell_type": "code",
   "execution_count": 6,
   "id": "fee7b75e",
   "metadata": {},
   "outputs": [
    {
     "data": {
      "text/plain": [
       "4351041904"
      ]
     },
     "execution_count": 6,
     "metadata": {},
     "output_type": "execute_result"
    }
   ],
   "source": [
    "id(theans)"
   ]
  },
  {
   "cell_type": "code",
   "execution_count": 7,
   "id": "281d449a",
   "metadata": {},
   "outputs": [
    {
     "data": {
      "text/plain": [
       "4351043056"
      ]
     },
     "execution_count": 7,
     "metadata": {},
     "output_type": "execute_result"
    }
   ],
   "source": [
    "id(anotherans)"
   ]
  },
  {
   "cell_type": "markdown",
   "id": "a6d1c613",
   "metadata": {},
   "source": [
    "Do a `whos` to confirm that *no* names refer to the original value."
   ]
  },
  {
   "cell_type": "code",
   "execution_count": 8,
   "id": "26921f75",
   "metadata": {},
   "outputs": [
    {
     "name": "stdout",
     "output_type": "stream",
     "text": [
      "Variable     Type    Data/Info\n",
      "------------------------------\n",
      "anotherans   int     84\n",
      "theans       int     48\n"
     ]
    }
   ],
   "source": [
    "whos"
   ]
  },
  {
   "cell_type": "markdown",
   "id": "329c40f1",
   "metadata": {},
   "source": [
    "Finally, assign a new name to the original value, and get its ID."
   ]
  },
  {
   "cell_type": "code",
   "execution_count": 9,
   "id": "6d8e21a3",
   "metadata": {},
   "outputs": [],
   "source": [
    "anAns = 88"
   ]
  },
  {
   "cell_type": "code",
   "execution_count": 10,
   "id": "75543e71",
   "metadata": {},
   "outputs": [
    {
     "data": {
      "text/plain": [
       "4351043184"
      ]
     },
     "execution_count": 10,
     "metadata": {},
     "output_type": "execute_result"
    }
   ],
   "source": [
    "id(anAns)"
   ]
  },
  {
   "cell_type": "markdown",
   "id": "005730a3",
   "metadata": {},
   "source": [
    "*Look at this ID and compare it to the original ones. What happened? What does this tell you?*\n",
    "\n",
    "The ID is the same as the original ones. The integer itself still has the ID attached to it so when assigning this new name to the value it still has the same original identification. "
   ]
  },
  {
   "cell_type": "markdown",
   "id": "022dd79c",
   "metadata": {},
   "source": [
    "---"
   ]
  },
  {
   "cell_type": "markdown",
   "id": "70b28d0b",
   "metadata": {},
   "source": [
    "### 2."
   ]
  },
  {
   "cell_type": "markdown",
   "id": "4016abc8",
   "metadata": {},
   "source": [
    "Convert both possible Boolean values to strings and print them."
   ]
  },
  {
   "cell_type": "code",
   "execution_count": 8,
   "id": "634b8733",
   "metadata": {},
   "outputs": [
    {
     "name": "stdout",
     "output_type": "stream",
     "text": [
      "True False\n"
     ]
    }
   ],
   "source": [
    "boolOne = True\n",
    "boolTwo = False\n",
    "\n",
    "print(str(boolOne), str(boolTwo))"
   ]
  },
  {
   "cell_type": "markdown",
   "id": "fa273c8d",
   "metadata": {},
   "source": [
    "Now convert some strings to Boolean until you figure out \"the rule\"."
   ]
  },
  {
   "cell_type": "code",
   "execution_count": 6,
   "id": "4c637ec5",
   "metadata": {},
   "outputs": [
    {
     "name": "stdout",
     "output_type": "stream",
     "text": [
      "True True True False\n"
     ]
    }
   ],
   "source": [
    "strOne = 'True'\n",
    "strTwo = 'False'\n",
    "strThree = '0'\n",
    "\n",
    "print(bool(strOne), bool(strTwo), bool(strThree), bool(''))"
   ]
  },
  {
   "cell_type": "markdown",
   "id": "b2c5c4e8",
   "metadata": {},
   "source": [
    "*What string(s) convert to True and False? In other words, what is the rule for str -> bool conversion?*\n",
    "\n",
    "All non-empty strings convert to True. The only False I got was from an empty string. "
   ]
  },
  {
   "cell_type": "markdown",
   "id": "9dc74072",
   "metadata": {},
   "source": [
    "---"
   ]
  },
  {
   "cell_type": "markdown",
   "id": "517c7fe1",
   "metadata": {},
   "source": [
    "### 3. "
   ]
  },
  {
   "cell_type": "markdown",
   "id": "f8fddb59",
   "metadata": {},
   "source": [
    "Make three variables:\n",
    "\n",
    "* a Boolean equal to True\n",
    "* an int (any int)\n",
    "* a float\n",
    "\n",
    "Try all combinations of adding two of the variables pairwise."
   ]
  },
  {
   "cell_type": "code",
   "execution_count": 24,
   "id": "86d384c9",
   "metadata": {},
   "outputs": [],
   "source": [
    "aBool = True\n",
    "anInt = 6\n",
    "aFloat = 6.6"
   ]
  },
  {
   "cell_type": "code",
   "execution_count": 25,
   "id": "6da7b0f3",
   "metadata": {},
   "outputs": [
    {
     "data": {
      "text/plain": [
       "7"
      ]
     },
     "execution_count": 25,
     "metadata": {},
     "output_type": "execute_result"
    }
   ],
   "source": [
    "aBool + anInt "
   ]
  },
  {
   "cell_type": "code",
   "execution_count": 26,
   "id": "a73476e2",
   "metadata": {},
   "outputs": [
    {
     "data": {
      "text/plain": [
       "7.6"
      ]
     },
     "execution_count": 26,
     "metadata": {},
     "output_type": "execute_result"
    }
   ],
   "source": [
    "aBool + aFloat"
   ]
  },
  {
   "cell_type": "code",
   "execution_count": 27,
   "id": "8cdb6f96",
   "metadata": {},
   "outputs": [
    {
     "data": {
      "text/plain": [
       "12.6"
      ]
     },
     "execution_count": 27,
     "metadata": {},
     "output_type": "execute_result"
    }
   ],
   "source": [
    "aFloat + anInt"
   ]
  },
  {
   "cell_type": "markdown",
   "id": "db2ebd3c",
   "metadata": {},
   "source": [
    "*What is the rule for adding numbers of different types?*\n",
    "\n",
    "The boolean value equal to True is equal to 1. Both the integers and float values stayed the same. "
   ]
  },
  {
   "cell_type": "markdown",
   "id": "1ea9b7ea",
   "metadata": {},
   "source": [
    "---"
   ]
  },
  {
   "cell_type": "markdown",
   "id": "e1b9ed6c",
   "metadata": {},
   "source": [
    "### 4."
   ]
  },
  {
   "cell_type": "markdown",
   "id": "cf84dd90",
   "metadata": {},
   "source": [
    "Make an int (any int) and a string containing a number (e.g. num_str = '64'). Try\n",
    "\n",
    "* adding them\n",
    "* adding them converting the number to a string\n",
    "* adding them converting the string to a number"
   ]
  },
  {
   "cell_type": "code",
   "execution_count": 28,
   "id": "18ed5b89",
   "metadata": {},
   "outputs": [],
   "source": [
    "anyInt = 8\n",
    "num_str = '2'"
   ]
  },
  {
   "cell_type": "code",
   "execution_count": 29,
   "id": "904e69e9",
   "metadata": {},
   "outputs": [
    {
     "ename": "TypeError",
     "evalue": "unsupported operand type(s) for +: 'int' and 'str'",
     "output_type": "error",
     "traceback": [
      "\u001b[0;31m---------------------------------------------------------------------------\u001b[0m",
      "\u001b[0;31mTypeError\u001b[0m                                 Traceback (most recent call last)",
      "Cell \u001b[0;32mIn[29], line 1\u001b[0m\n\u001b[0;32m----> 1\u001b[0m \u001b[43manyInt\u001b[49m\u001b[43m \u001b[49m\u001b[38;5;241;43m+\u001b[39;49m\u001b[43m \u001b[49m\u001b[43mnum_str\u001b[49m\n",
      "\u001b[0;31mTypeError\u001b[0m: unsupported operand type(s) for +: 'int' and 'str'"
     ]
    }
   ],
   "source": [
    "anyInt + num_str"
   ]
  },
  {
   "cell_type": "code",
   "execution_count": 30,
   "id": "1501fbfe",
   "metadata": {},
   "outputs": [
    {
     "data": {
      "text/plain": [
       "'82'"
      ]
     },
     "execution_count": 30,
     "metadata": {},
     "output_type": "execute_result"
    }
   ],
   "source": [
    "str(anyInt) + num_str"
   ]
  },
  {
   "cell_type": "code",
   "execution_count": 31,
   "id": "998b4082",
   "metadata": {},
   "outputs": [
    {
     "data": {
      "text/plain": [
       "10"
      ]
     },
     "execution_count": 31,
     "metadata": {},
     "output_type": "execute_result"
    }
   ],
   "source": [
    "int(num_str) + anyInt"
   ]
  },
  {
   "cell_type": "markdown",
   "id": "5110c575",
   "metadata": {},
   "source": [
    "Try converting a `str` that is a spelled out number (like 'forty two') to an int."
   ]
  },
  {
   "cell_type": "code",
   "execution_count": 33,
   "id": "3f8e8f20",
   "metadata": {},
   "outputs": [
    {
     "ename": "ValueError",
     "evalue": "invalid literal for int() with base 10: 'nine'",
     "output_type": "error",
     "traceback": [
      "\u001b[0;31m---------------------------------------------------------------------------\u001b[0m",
      "\u001b[0;31mValueError\u001b[0m                                Traceback (most recent call last)",
      "Cell \u001b[0;32mIn[33], line 1\u001b[0m\n\u001b[0;32m----> 1\u001b[0m \u001b[38;5;28;43mint\u001b[39;49m\u001b[43m(\u001b[49m\u001b[38;5;124;43m'\u001b[39;49m\u001b[38;5;124;43mnine\u001b[39;49m\u001b[38;5;124;43m'\u001b[39;49m\u001b[43m)\u001b[49m\n",
      "\u001b[0;31mValueError\u001b[0m: invalid literal for int() with base 10: 'nine'"
     ]
    }
   ],
   "source": [
    "int('nine')"
   ]
  },
  {
   "cell_type": "markdown",
   "id": "fd5707eb",
   "metadata": {},
   "source": [
    "*Did that work?*\n",
    "\n",
    "No it did not!"
   ]
  },
  {
   "cell_type": "markdown",
   "id": "1dae4adc",
   "metadata": {},
   "source": [
    "---"
   ]
  },
  {
   "cell_type": "markdown",
   "id": "9d9f04c2",
   "metadata": {},
   "source": [
    "### 5. "
   ]
  },
  {
   "cell_type": "markdown",
   "id": "41cab9d3",
   "metadata": {},
   "source": [
    "Make a variable that is a 5 element tuple."
   ]
  },
  {
   "cell_type": "code",
   "execution_count": 34,
   "id": "b7d56346",
   "metadata": {},
   "outputs": [],
   "source": [
    "colors = ('pink', 'green', 'yellow', 'red', 'purple')"
   ]
  },
  {
   "cell_type": "markdown",
   "id": "e8c66a73",
   "metadata": {},
   "source": [
    "Extract the last 3 elements."
   ]
  },
  {
   "cell_type": "code",
   "execution_count": 36,
   "id": "2e49c601",
   "metadata": {},
   "outputs": [
    {
     "data": {
      "text/plain": [
       "('yellow', 'red', 'purple')"
      ]
     },
     "execution_count": 36,
     "metadata": {},
     "output_type": "execute_result"
    }
   ],
   "source": [
    "colors[2:5]"
   ]
  },
  {
   "cell_type": "markdown",
   "id": "47e21ef5",
   "metadata": {},
   "source": [
    "---"
   ]
  },
  {
   "cell_type": "markdown",
   "id": "158ffef3",
   "metadata": {},
   "source": [
    "### 6. "
   ]
  },
  {
   "cell_type": "markdown",
   "id": "448bfa55",
   "metadata": {},
   "source": [
    "Make two variables containing tuples (you can create one and re-use the one from #5). Add them using \"+\"."
   ]
  },
  {
   "cell_type": "code",
   "execution_count": 40,
   "id": "5d681205",
   "metadata": {},
   "outputs": [
    {
     "data": {
      "text/plain": [
       "('pink',\n",
       " 'green',\n",
       " 'yellow',\n",
       " 'red',\n",
       " 'purple',\n",
       " 'circle',\n",
       " 'square',\n",
       " 'triangle',\n",
       " 'oval',\n",
       " 'diamond')"
      ]
     },
     "execution_count": 40,
     "metadata": {},
     "output_type": "execute_result"
    }
   ],
   "source": [
    "shapes = ('circle', 'square', 'triangle', 'oval', 'diamond')\n",
    "\n",
    "colors + shapes"
   ]
  },
  {
   "cell_type": "markdown",
   "id": "119c9a85",
   "metadata": {},
   "source": [
    "Make two list variables and add them."
   ]
  },
  {
   "cell_type": "code",
   "execution_count": 41,
   "id": "0b72465e",
   "metadata": {},
   "outputs": [
    {
     "data": {
      "text/plain": [
       "['peanuts', 'raisins', 'chips', 'dog', 'cat', 'bird']"
      ]
     },
     "execution_count": 41,
     "metadata": {},
     "output_type": "execute_result"
    }
   ],
   "source": [
    "snack = ['peanuts','raisins','chips']\n",
    "animals = ['dog','cat','bird']\n",
    "\n",
    "snack + animals"
   ]
  },
  {
   "cell_type": "markdown",
   "id": "23ed3aa7",
   "metadata": {},
   "source": [
    "Try adding one of your tuples to one of your lists."
   ]
  },
  {
   "cell_type": "code",
   "execution_count": 42,
   "id": "187ba06d",
   "metadata": {},
   "outputs": [
    {
     "ename": "TypeError",
     "evalue": "can only concatenate tuple (not \"list\") to tuple",
     "output_type": "error",
     "traceback": [
      "\u001b[0;31m---------------------------------------------------------------------------\u001b[0m",
      "\u001b[0;31mTypeError\u001b[0m                                 Traceback (most recent call last)",
      "Cell \u001b[0;32mIn[42], line 1\u001b[0m\n\u001b[0;32m----> 1\u001b[0m \u001b[43mshapes\u001b[49m\u001b[43m \u001b[49m\u001b[38;5;241;43m+\u001b[39;49m\u001b[43m \u001b[49m\u001b[43msnack\u001b[49m\n",
      "\u001b[0;31mTypeError\u001b[0m: can only concatenate tuple (not \"list\") to tuple"
     ]
    }
   ],
   "source": [
    "shapes + snack"
   ]
  },
  {
   "cell_type": "markdown",
   "id": "c22fff9f",
   "metadata": {},
   "source": [
    "*What happened? How does this compare to adding, say, a bool to a float?*\n",
    "\n",
    "It cannot add a list to a tuple. A bool and a float works because the boolean value is converted to an integer which can used in addition. "
   ]
  },
  {
   "cell_type": "markdown",
   "id": "24ceb313",
   "metadata": {},
   "source": [
    "---"
   ]
  },
  {
   "cell_type": "markdown",
   "id": "46be9eeb",
   "metadata": {},
   "source": [
    "### 7."
   ]
  },
  {
   "cell_type": "markdown",
   "id": "ed51a160",
   "metadata": {},
   "source": [
    "Can you tell the type of a variable by looking at its value?"
   ]
  },
  {
   "cell_type": "markdown",
   "id": "7b9d839a",
   "metadata": {},
   "source": [
    "*If so, how? A couple examples are fine; no need for an exhaustive list.*\n",
    "\n",
    "Yes I can. A boolean variable is easy to recognize because it's either True or False. An integer is a whole number (i.e. 8 or 10), and a float variable includes a decimal (i.e. 8.5 or 0.05). A string variable is a sequence of characters (i.e. 'dog') and is enclosed in a parentheses. "
   ]
  },
  {
   "cell_type": "markdown",
   "id": "d9d4751a",
   "metadata": {},
   "source": [
    "---"
   ]
  },
  {
   "cell_type": "markdown",
   "id": "0e6d00d0",
   "metadata": {},
   "source": [
    "### 8."
   ]
  },
  {
   "cell_type": "markdown",
   "id": "fef795f0",
   "metadata": {},
   "source": [
    "Make a list variable in which one of the elements is itself a list (e.g. `myList = ['hi', [3, 5, 7, 11], False]`)."
   ]
  },
  {
   "cell_type": "code",
   "execution_count": 43,
   "id": "397862a5",
   "metadata": {},
   "outputs": [],
   "source": [
    "myList = ['pluto', [2,3,4,5], True]"
   ]
  },
  {
   "cell_type": "markdown",
   "id": "6c9f9c01",
   "metadata": {},
   "source": [
    "Extract one element of the nested list - the list-within a list. Try it in two steps, by first extracting the nested list and assigning it to a new variable."
   ]
  },
  {
   "cell_type": "code",
   "execution_count": 46,
   "id": "fb0d3c73",
   "metadata": {},
   "outputs": [
    {
     "data": {
      "text/plain": [
       "3"
      ]
     },
     "execution_count": 46,
     "metadata": {},
     "output_type": "execute_result"
    }
   ],
   "source": [
    "nested = myList[1]\n",
    "nested[1]"
   ]
  },
  {
   "cell_type": "markdown",
   "id": "2af6ccf6",
   "metadata": {},
   "source": [
    "Now see if you can do this in one step."
   ]
  },
  {
   "cell_type": "code",
   "execution_count": 47,
   "id": "9c7617ec",
   "metadata": {},
   "outputs": [
    {
     "data": {
      "text/plain": [
       "3"
      ]
     },
     "execution_count": 47,
     "metadata": {},
     "output_type": "execute_result"
    }
   ],
   "source": [
    "myList[1][1]"
   ]
  },
  {
   "cell_type": "markdown",
   "id": "0554f1ab",
   "metadata": {},
   "source": [
    "---"
   ]
  },
  {
   "cell_type": "markdown",
   "id": "bc4dfb16",
   "metadata": {},
   "source": [
    "### 9."
   ]
  },
  {
   "cell_type": "markdown",
   "id": "942c18ed",
   "metadata": {},
   "source": [
    "Make a `dict` variable with two elements, one of which is a list."
   ]
  },
  {
   "cell_type": "code",
   "execution_count": 48,
   "id": "eab04be2",
   "metadata": {},
   "outputs": [],
   "source": [
    "cars_dict = {\n",
    "    'type':'Jeep',\n",
    "    'color':['white','black','yellow']\n",
    "}"
   ]
  },
  {
   "cell_type": "markdown",
   "id": "33671a6f",
   "metadata": {},
   "source": [
    "Extract a single element from the list-in-a-dict in one step."
   ]
  },
  {
   "cell_type": "code",
   "execution_count": 50,
   "id": "d34db06d",
   "metadata": {},
   "outputs": [
    {
     "data": {
      "text/plain": [
       "'white'"
      ]
     },
     "execution_count": 50,
     "metadata": {},
     "output_type": "execute_result"
    }
   ],
   "source": [
    "cars_dict['color'][0]"
   ]
  },
  {
   "cell_type": "markdown",
   "id": "ad326e31",
   "metadata": {},
   "source": [
    "---"
   ]
  },
  {
   "cell_type": "markdown",
   "id": "3ee688b1",
   "metadata": {},
   "source": [
    "10."
   ]
  },
  {
   "cell_type": "markdown",
   "id": "d75d6e10",
   "metadata": {},
   "source": [
    "Make a list variable. Consider that each element of the list is logically an *object* in and of itself. Confirm that one or two of these list elements has its own unique ID number."
   ]
  },
  {
   "cell_type": "code",
   "execution_count": 61,
   "id": "57e89abe",
   "metadata": {},
   "outputs": [
    {
     "name": "stdout",
     "output_type": "stream",
     "text": [
      "4354120624 4354120816\n"
     ]
    }
   ],
   "source": [
    "anotherList = [2,4,6,8]\n",
    "print(id(anotherList[0]), id(anotherList[3]))"
   ]
  },
  {
   "cell_type": "markdown",
   "id": "a6dd53d9",
   "metadata": {},
   "source": [
    "If you extract an element from your list and assign it to a new variable, are the IDs the same, or is a new object created?"
   ]
  },
  {
   "cell_type": "code",
   "execution_count": 63,
   "id": "2e25b9a1",
   "metadata": {},
   "outputs": [
    {
     "data": {
      "text/plain": [
       "4354120624"
      ]
     },
     "execution_count": 63,
     "metadata": {},
     "output_type": "execute_result"
    }
   ],
   "source": [
    "elem = anotherList[0]\n",
    "id(elem)"
   ]
  },
  {
   "cell_type": "markdown",
   "id": "c30af4e6",
   "metadata": {},
   "source": [
    "*Are the IDs the same, or is a new object created when you assigned the list element to new variable?*\n",
    "\n",
    "The IDs are the same because the object is unchanged, regardless of the new name assignment. "
   ]
  },
  {
   "cell_type": "markdown",
   "id": "4a3df1f0",
   "metadata": {},
   "source": [
    "---"
   ]
  },
  {
   "cell_type": "markdown",
   "id": "954d5cb8",
   "metadata": {},
   "source": [
    "### 11."
   ]
  },
  {
   "cell_type": "markdown",
   "id": "d5aaa23b",
   "metadata": {},
   "source": [
    "Make a `str` variable containing the first 5 letters of the alphabet (e.g. `a2e = 'abcde'`). Check the ID of the second (index = 1) element (the 'b')."
   ]
  },
  {
   "cell_type": "code",
   "execution_count": 75,
   "id": "eb1770d5",
   "metadata": {},
   "outputs": [
    {
     "data": {
      "text/plain": [
       "4354166688"
      ]
     },
     "execution_count": 75,
     "metadata": {},
     "output_type": "execute_result"
    }
   ],
   "source": [
    "ae = 'abcde'\n",
    "id(ae[1])"
   ]
  },
  {
   "cell_type": "markdown",
   "id": "fba510ba",
   "metadata": {},
   "source": [
    "Now make a `str` variable containing the letter 'b'. Check its ID."
   ]
  },
  {
   "cell_type": "code",
   "execution_count": 72,
   "id": "7bd7560d",
   "metadata": {},
   "outputs": [
    {
     "data": {
      "text/plain": [
       "4353865568"
      ]
     },
     "execution_count": 72,
     "metadata": {},
     "output_type": "execute_result"
    }
   ],
   "source": [
    "letter = 'b'\n",
    "id(letter)"
   ]
  },
  {
   "cell_type": "markdown",
   "id": "8484a41a",
   "metadata": {},
   "source": [
    "*What happened?*\n",
    "\n",
    "The ID is different because one variable is 'abcde'while the other is just considered 'b'. (i'm not sure about this one)"
   ]
  }
 ],
 "metadata": {
  "kernelspec": {
   "display_name": "Python 3 (ipykernel)",
   "language": "python",
   "name": "python3"
  },
  "language_info": {
   "codemirror_mode": {
    "name": "ipython",
    "version": 3
   },
   "file_extension": ".py",
   "mimetype": "text/x-python",
   "name": "python",
   "nbconvert_exporter": "python",
   "pygments_lexer": "ipython3",
   "version": "3.11.1"
  }
 },
 "nbformat": 4,
 "nbformat_minor": 5
}
