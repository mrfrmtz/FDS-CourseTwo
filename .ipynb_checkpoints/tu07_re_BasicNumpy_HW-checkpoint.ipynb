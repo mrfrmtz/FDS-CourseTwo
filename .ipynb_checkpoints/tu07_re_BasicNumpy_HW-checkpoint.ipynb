{
 "cells": [
  {
   "cell_type": "markdown",
   "id": "1f1534b9",
   "metadata": {},
   "source": [
    "# Numpy review homework"
   ]
  },
  {
   "cell_type": "markdown",
   "id": "4db19bcf",
   "metadata": {},
   "source": [
    "1. Make a numpy matrix from a Python list of lists..."
   ]
  },
  {
   "cell_type": "code",
   "execution_count": 1,
   "id": "83f5fda0",
   "metadata": {},
   "outputs": [],
   "source": [
    "import numpy as np"
   ]
  },
  {
   "cell_type": "code",
   "execution_count": 2,
   "id": "6b140a06",
   "metadata": {},
   "outputs": [
    {
     "data": {
      "text/plain": [
       "array([[ 2,  4],\n",
       "       [ 3, -1],\n",
       "       [-2,  1]])"
      ]
     },
     "execution_count": 2,
     "metadata": {},
     "output_type": "execute_result"
    }
   ],
   "source": [
    "np_matrix = np.array([[2, 4], [3, -1], [-2, 1]])\n",
    "np_matrix"
   ]
  },
  {
   "cell_type": "markdown",
   "id": "dd6e8ffb",
   "metadata": {},
   "source": [
    "2. Make a 3D numpy matrix from a Python list of lists of lists!"
   ]
  },
  {
   "cell_type": "code",
   "execution_count": 3,
   "id": "c977766b",
   "metadata": {},
   "outputs": [
    {
     "data": {
      "text/plain": [
       "array([[[ 1,  2,  3],\n",
       "        [ 4,  5,  6]],\n",
       "\n",
       "       [[ 7,  8,  9],\n",
       "        [17, 18, 19]],\n",
       "\n",
       "       [[13, 14, 15],\n",
       "        [16, 20, 21]]])"
      ]
     },
     "execution_count": 3,
     "metadata": {},
     "output_type": "execute_result"
    }
   ],
   "source": [
    "np_matrix = np.array([[[1,2,3], [4,5,6]], \n",
    "                      [[7,8,9], [17,18,19]], \n",
    "                      [[13,14,15], [16,20,21]]])\n",
    "np_matrix"
   ]
  },
  {
   "cell_type": "markdown",
   "id": "8ad64691",
   "metadata": {},
   "source": [
    "3. Create a 5x3 array of Gaussian random numbers. "
   ]
  },
  {
   "cell_type": "code",
   "execution_count": 94,
   "id": "5f280edc",
   "metadata": {},
   "outputs": [
    {
     "data": {
      "text/plain": [
       "array([[ 1.12508221, -0.02706748, -0.18929466],\n",
       "       [-0.83057479,  2.21326633, -0.69993258],\n",
       "       [ 1.44888825, -0.20490622,  0.27818277],\n",
       "       [ 0.50185478, -0.03503331, -1.07259301],\n",
       "       [ 1.35906972,  0.56607582,  2.35404244]])"
      ]
     },
     "execution_count": 94,
     "metadata": {},
     "output_type": "execute_result"
    }
   ],
   "source": [
    "gaus = np.random.randn(5,3)\n",
    "gaus"
   ]
  },
  {
   "cell_type": "markdown",
   "id": "d129639e",
   "metadata": {},
   "source": [
    "4. Write a script to go through the array created in 3. and announce (print) the value and its row and column indexes.\n",
    "\n",
    "Hint: Use nested `for` loops - one to loop through the rows and one to loop through the columns."
   ]
  },
  {
   "cell_type": "code",
   "execution_count": 109,
   "id": "e03239e1",
   "metadata": {},
   "outputs": [
    {
     "name": "stdout",
     "output_type": "stream",
     "text": [
      "Row\t Column\t Value\n",
      "0 \t 0 \t 1.1250822100690685\n",
      "0 \t 1 \t -0.027067479974490067\n",
      "0 \t 2 \t -0.18929466073856904\n",
      "1 \t 0 \t -0.830574794234174\n",
      "1 \t 1 \t 2.2132663250094096\n",
      "1 \t 2 \t -0.6999325804279395\n",
      "2 \t 0 \t 1.4488882462303163\n",
      "2 \t 1 \t -0.2049062187950202\n",
      "2 \t 2 \t 0.27818277079422343\n",
      "3 \t 0 \t 0.5018547770508129\n",
      "3 \t 1 \t -0.03503330924170285\n",
      "3 \t 2 \t -1.0725930061892837\n",
      "4 \t 0 \t 1.3590697166905963\n",
      "4 \t 1 \t 0.5660758209714674\n",
      "4 \t 2 \t 2.354042441757096\n"
     ]
    }
   ],
   "source": [
    "print('Row\\t Column\\t Value')\n",
    "\n",
    "for row in range(5):\n",
    "    for col in range(3):\n",
    "        print(row, '\\t', col, '\\t', gaus[row,col])\n"
   ]
  },
  {
   "cell_type": "markdown",
   "id": "2f6c8094",
   "metadata": {},
   "source": [
    "5. Make an new array out of your random numbers such that the mean is 10 and the standard deviation is 3."
   ]
  },
  {
   "cell_type": "code",
   "execution_count": 6,
   "id": "b8cfc374",
   "metadata": {},
   "outputs": [],
   "source": [
    "new_array = (gaus * 3) + 10"
   ]
  },
  {
   "cell_type": "markdown",
   "id": "431e4556",
   "metadata": {},
   "source": [
    "6. Count the number of values in your new array that are below 7."
   ]
  },
  {
   "cell_type": "code",
   "execution_count": 7,
   "id": "80cb12c5",
   "metadata": {},
   "outputs": [
    {
     "data": {
      "text/plain": [
       "array([[False, False, False],\n",
       "       [False, False, False],\n",
       "       [False,  True, False],\n",
       "       [ True, False, False],\n",
       "       [ True,  True, False]])"
      ]
     },
     "execution_count": 7,
     "metadata": {},
     "output_type": "execute_result"
    }
   ],
   "source": [
    "new_array < 7"
   ]
  },
  {
   "cell_type": "markdown",
   "id": "f7191a90",
   "metadata": {},
   "source": [
    "7. Make a numpy sequence that has the even numbers from 2 up to (and including) 20."
   ]
  },
  {
   "cell_type": "code",
   "execution_count": 13,
   "id": "23277d0c",
   "metadata": {},
   "outputs": [
    {
     "name": "stdout",
     "output_type": "stream",
     "text": [
      "[ 2  4  6  8 10 12 14 16 18 20]\n"
     ]
    }
   ],
   "source": [
    "seq = np.arange(2,21,2)\n",
    "print(seq)"
   ]
  },
  {
   "cell_type": "markdown",
   "id": "40bd499e",
   "metadata": {},
   "source": [
    "8. Get the second and third rows of your array."
   ]
  },
  {
   "cell_type": "code",
   "execution_count": 23,
   "id": "1abb0c7b",
   "metadata": {},
   "outputs": [
    {
     "name": "stdout",
     "output_type": "stream",
     "text": [
      "[-0.3868072  -0.34415548  0.50067053]\n",
      "[ 0.3005157  -1.11851144 -0.10537119]\n"
     ]
    }
   ],
   "source": [
    "print(gaus[1,:])\n",
    "print(gaus[2,:])"
   ]
  },
  {
   "cell_type": "markdown",
   "id": "1c3779c3",
   "metadata": {},
   "source": [
    "9. Compute the mean of the columns of your array."
   ]
  },
  {
   "cell_type": "code",
   "execution_count": 22,
   "id": "4e166283",
   "metadata": {},
   "outputs": [
    {
     "name": "stdout",
     "output_type": "stream",
     "text": [
      "-0.7550798442724782\n",
      "-0.5318755615341366\n",
      "0.23648465214776682\n"
     ]
    }
   ],
   "source": [
    "print(np.mean(gaus[:,0]))\n",
    "print(np.mean(gaus[:,1]))\n",
    "print(np.mean(gaus[:,2]))"
   ]
  },
  {
   "cell_type": "code",
   "execution_count": null,
   "id": "88f27081",
   "metadata": {},
   "outputs": [],
   "source": []
  }
 ],
 "metadata": {
  "kernelspec": {
   "display_name": "Python 3 (ipykernel)",
   "language": "python",
   "name": "python3"
  },
  "language_info": {
   "codemirror_mode": {
    "name": "ipython",
    "version": 3
   },
   "file_extension": ".py",
   "mimetype": "text/x-python",
   "name": "python",
   "nbconvert_exporter": "python",
   "pygments_lexer": "ipython3",
   "version": "3.11.1"
  }
 },
 "nbformat": 4,
 "nbformat_minor": 5
}
