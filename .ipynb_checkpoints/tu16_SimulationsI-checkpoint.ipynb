{
 "cells": [
  {
   "cell_type": "markdown",
   "id": "be32c40e-4486-44e3-9e5e-73fa21dda655",
   "metadata": {},
   "source": [
    "# Computer Simulations"
   ]
  },
  {
   "cell_type": "markdown",
   "id": "13236d88-bfc6-4219-8248-1b34ea31b0e2",
   "metadata": {},
   "source": [
    "Computer simulations, also known as Monte Carlo simulations, are incredibly powerful. They allow us to compute the likely outcomes of situations or events when it would be difficult, expensive, or impossible to recreate the situations or events in the real world many times over."
   ]
  },
  {
   "cell_type": "markdown",
   "id": "0a2d36cf-c931-4ab8-8278-0fc8a13e09ac",
   "metadata": {},
   "source": [
    "As a simple example, if NASA were working on a new two-stage rocket, they would need to know, for a given launch site, where the first stage is likely to land once it detaches and falls to earth. That information would be crucial, and no launch would be allowed without it. Of course, equations using Newtonian physics and aerodynamics can be used to predict an expected spot for impact. But, obviously, the discarded stage won't hit in that exact spot every time. So, what we really want is a *distribution*, like a 2D histogram, of likely landing spots. In other words, a map of the danger zone. To construct a map of the danger zone, we could:\n",
    "\n",
    "- Build a bunch of rockets and test-fire them into space, recording the impact coordinates of the fallen stage each time.\n",
    "\n",
    "or\n",
    "\n",
    "- Tinker with the constants in the equations (such as wind speed and direction at various altitudes) by hand, recording the impact coordinates predicted by the equations each time.\n",
    "\n",
    "The second option would be incredibly tedious and would be subject to bias  (how would the exact wind directions be chosen?). The first option would expensive, time-consuming and, of course, incredibly dangerous. \n",
    "\n",
    "As a second example, consider forcasting the landfall of hurricanes. Here, it's obviously impossible to \"test fire\" a bunch of hurricanes and, even if we could, doing so would defeat the very purpose of forcasting the landfall! Very elaborate sets of equations can predict *a* landfall for a particular set of constants (ocean temperatures, prevailing winds, etc.) but, again, what we want is a *distribution* of likely locations for landfall – a map of the danger zone.\n",
    "\n",
    "In each of these situations, the solution is to run the equations on a computer – that is, to do a simulations – many many times over and, each time, having the computer select probable values for the constants (air temperature etc.) *at random*. Having the values for the constants be set to new random values each time will make the final outcome – impact site, landfall location, etc. – also vary, and the final distribution of these outcomes will give us the information we want. "
   ]
  },
  {
   "cell_type": "markdown",
   "id": "d76fa666-dbad-45a5-a275-fd1cfb3d42b0",
   "metadata": {},
   "source": [
    "Simulations are now ubiquitous in data science. They are, in fact, used in hurricane forcasting as well as in any other area in which people make predictions, such as sports, politics, and warfare (the first use of computer simulations was to help develop the first nuclear weapon). The key to doing computer simulations, however, is to be able to pump realistic *random* values into the equations on each simulation, so that the variability in these values plays out as realistic variability in the final outcome. So where do we get these random numbers?"
   ]
  },
  {
   "cell_type": "markdown",
   "id": "9c152f88-000a-44c9-b314-5241bd935778",
   "metadata": {},
   "source": [
    "## Pseudorandom Numbers"
   ]
  },
  {
   "cell_type": "markdown",
   "id": "50d2ffad-0fe6-49da-bbee-0a018ec6ab9d",
   "metadata": {},
   "source": [
    "A computer is a deterministic machine meaning that, in any given state, it will always produce the same output for a given input. So how can a computer possibly produce random numbers? It can't. But it can produce ***pseudorandom numbers***, which are sequences of numbers that are random *for all practical intents and purposes*."
   ]
  },
  {
   "cell_type": "markdown",
   "id": "ecc121a7-5c4e-4783-bc5e-8aec27d06a1a",
   "metadata": {},
   "source": [
    "Pseudorandom numbers are so widely used and so good (that is, statistically indistinguishable from true random numbers) that most books and articles nowadays just refer to them as \"random numbers\". Similarly, the algorithms and programs used to generate them are called \"random number generators\" rather than \"pseudorandom number generators\"."
   ]
  },
  {
   "cell_type": "markdown",
   "id": "fff5d856-1e3c-44d1-8aa6-6d122a53c977",
   "metadata": {},
   "source": [
    "The way computers make random numbers is conceptually quite simple. A starting value – a \"seed\" – is passed through an algorithm that produces a single output value, the first \"random\" number. This output is passed back though the algorithm to produce the second random number, and so on. The trick is to design an algorithm that makes it almost impossible to guess the input value from the output value. In other words, the numbers should appear to be unrelated or *independent*, and therefore random."
   ]
  },
  {
   "cell_type": "markdown",
   "id": "b82ff2c9-f3b2-4d56-ab07-52d8aae0dc3e",
   "metadata": {},
   "source": [
    "Here is a very simple algorithm for a (pseudo) random number generator. It takes three numbers:\n",
    "\n",
    "- a number, *s*, the \"seed\"\n",
    "- a number, *a*, called the \"multiplier\"\n",
    "- and a number, *m*, called the \"modulus\"\n",
    "\n",
    "It then computes the remainder – the modulus – of: $(seed * a) / m$\n",
    "\n",
    "That equation yields our first random number. To get the second number, we feed the first output back into the equation in place of the seed. To get the third, we feed in the second and so on."
   ]
  },
  {
   "cell_type": "markdown",
   "id": "81c19f38-adae-4d40-a274-5bf541ef3523",
   "metadata": {},
   "source": [
    "Here is code to implement the above algorithm – an actual (psuedo) random number generator!"
   ]
  },
  {
   "cell_type": "code",
   "execution_count": 1,
   "id": "428db015-008f-4f65-9772-904f9cd3ba45",
   "metadata": {},
   "outputs": [
    {
     "data": {
      "text/plain": [
       "[10, 8, 11, 18, 19, 6, 14, 2, 20, 16, 22, 13, 15, 12, 5, 4, 17, 9, 21, 3]"
      ]
     },
     "execution_count": 1,
     "metadata": {},
     "output_type": "execute_result"
    }
   ],
   "source": [
    "s, a, m = 1, 10, 23  # seed, multiplier, modulus\n",
    "ps_rands = []         # empty list to hold our numbers\n",
    "\n",
    "for i in range(20) :\n",
    "    if i > 0 :\n",
    "        x = (ps_rands[i-1]*a)%m\n",
    "        ps_rands.append(x)\n",
    "    else :\n",
    "        x = (s*a)%m\n",
    "        ps_rands.append(x)\n",
    "        \n",
    "ps_rands"
   ]
  },
  {
   "cell_type": "markdown",
   "id": "39ff5f33-c92a-443a-bac9-5cad8a19ba36",
   "metadata": {},
   "source": [
    "Run the code and see if you can find a pattern in these numbers! If you can't, then they pass at least one informal test of randomness – the test of you!"
   ]
  },
  {
   "cell_type": "markdown",
   "id": "74d15e0b-eb5d-4239-aaa1-aeb3c58b7641",
   "metadata": {},
   "source": [
    "---"
   ]
  },
  {
   "cell_type": "markdown",
   "id": "2aaae5ce-cb27-46c2-88e5-f5dfd76ff1dc",
   "metadata": {},
   "source": [
    "Re-run the above code with various values for the seed. What happens?"
   ]
  },
  {
   "cell_type": "markdown",
   "id": "44b6fbe3-473e-4dbe-8d33-58dc7f5b4f92",
   "metadata": {},
   "source": [
    "The same sequences of numbers show up for a seed."
   ]
  },
  {
   "cell_type": "markdown",
   "id": "6d0c79a8-4fdb-4d8a-b47f-86ff2591c2ec",
   "metadata": {},
   "source": [
    "---"
   ]
  },
  {
   "cell_type": "markdown",
   "id": "94e055ac-6720-4dee-b802-7c8cafe750ca",
   "metadata": {},
   "source": [
    "Playing with the above code hopefully made you realize that this simple random number generator is actually not a good one. But it's also quite simple, so we got what we paid for!\n",
    "\n",
    "A moment's thought should convince us that, if a random number generator outputs a number, say a 5, that it has already generated, then the sequence between the first and second 5 will just keep repeating. It has to, because the algorithm will always generate the same output for a given input! And sequences of numbers that repeat are not random! So one of the keys to good random number generators is to have them yield number sequences that go on for a very very very long while before they start repeating.\n",
    "\n",
    "Modern random number generators are quite good; we don't need to worry about them, we just need to use them. Importantly, however, they are still algorithms, which means that given the same starting point – the seed – they will always produce the same sequence of numbers. This is a feature not a bug! It means that as long as we know our seed, we can always reproduce our analyses!"
   ]
  },
  {
   "cell_type": "markdown",
   "id": "811a5e41-d02b-45de-8057-18f5de443395",
   "metadata": {},
   "source": [
    "> Note: Modern computer operating systems are gathering true random numbers all the time, like the timing between your keyboard strokes, mouse movements, communications between the CPU and hard disk, and even the small fluctuations in noise around the computer! It uses these random numbers to encrypt your data and communications. \n",
    "\n",
    "> If you use numpy to generate random numbers without specifing a seed, numpy will dip into the random numbers used by your computer's OS. But then, of course, you won't know what your seed was and won't be able to reproduce your analysis!"
   ]
  },
  {
   "cell_type": "markdown",
   "id": "e8d565d2-cca8-491d-81bd-f9b1819d491b",
   "metadata": {},
   "source": [
    "## Preliminaries"
   ]
  },
  {
   "cell_type": "markdown",
   "id": "320071e2-7d1b-4042-9a54-681a374e5617",
   "metadata": {},
   "source": [
    "In order to actually do simulations, we are going to be using the random number generating capabilities of numpy, so let's import it as usual. We're also going to want to make some histograms, so let's import Seaborn as well."
   ]
  },
  {
   "cell_type": "code",
   "execution_count": 2,
   "id": "60decaa2-194e-4071-a7a3-4fedf64da87b",
   "metadata": {},
   "outputs": [],
   "source": [
    "import numpy as np\n",
    "import seaborn as sns\n",
    "import matplotlib.pyplot as plt"
   ]
  },
  {
   "cell_type": "markdown",
   "id": "eda35c44-7190-478c-a1d5-accef58ebe73",
   "metadata": {},
   "source": [
    "And run this command to make sure our plots show up."
   ]
  },
  {
   "cell_type": "code",
   "execution_count": 3,
   "id": "e162f2aa-07c2-41c4-8265-b11e818f7188",
   "metadata": {},
   "outputs": [],
   "source": [
    "%matplotlib inline    "
   ]
  },
  {
   "cell_type": "markdown",
   "id": "9fdca23b-2188-4197-af9d-9ab4aca3e22a",
   "metadata": {},
   "source": [
    "## Using numpy's random number generator"
   ]
  },
  {
   "cell_type": "markdown",
   "id": "c3345d57-db08-43a3-a40e-ec9d568f9176",
   "metadata": {},
   "source": [
    "The prefered method for getting random numbers using numpy is a two-step process. The process is:\n",
    "\n",
    "1. Create a random number generator object at the start of a script or simulation\n",
    "2. Use that random number generator to draw samples from you desired distribution"
   ]
  },
  {
   "cell_type": "markdown",
   "id": "35aa3ef6-1101-4fb7-b305-1ca8a05c22fc",
   "metadata": {},
   "source": [
    "Here's how we create a random number generator with a seed of 42:"
   ]
  },
  {
   "cell_type": "code",
   "execution_count": 4,
   "id": "c6088ce1-f8e2-4f6d-8062-4a7d538005c4",
   "metadata": {},
   "outputs": [],
   "source": [
    "rng = np.random.default_rng(42) # seed with the answer to the ultimate question"
   ]
  },
  {
   "cell_type": "markdown",
   "id": "57693355-252c-4e2f-a53a-756884b9fca7",
   "metadata": {},
   "source": [
    "We're allowed to name our generator whatever we want, but it's convention to name these generators \"rng\" unless there is a good reason to do otherwise. "
   ]
  },
  {
   "cell_type": "markdown",
   "id": "85854d97-83e3-4e1a-89e8-98aa926463a2",
   "metadata": {},
   "source": [
    "We can now use this generator throughout a given project or project phase. If we wanted a number from a normal distribution, for example, we would call the `rng.normal()` method."
   ]
  },
  {
   "cell_type": "markdown",
   "id": "b91adff1-9cd3-4267-8df5-1d5d9d270cf6",
   "metadata": {},
   "source": [
    "---"
   ]
  },
  {
   "cell_type": "markdown",
   "id": "5a74c96a-d631-4caf-b222-812a0c275665",
   "metadata": {},
   "source": [
    "In the cell below, call `rng.normal()` 10 or so times, and see what you get."
   ]
  },
  {
   "cell_type": "code",
   "execution_count": 5,
   "id": "c5294ed1-25a3-4342-bb5d-08741ee81544",
   "metadata": {},
   "outputs": [
    {
     "data": {
      "text/plain": [
       "0.30471707975443135"
      ]
     },
     "execution_count": 5,
     "metadata": {},
     "output_type": "execute_result"
    }
   ],
   "source": [
    "rng.normal()"
   ]
  },
  {
   "cell_type": "markdown",
   "id": "42ad5249-b2cd-47d4-ab91-62ae7821625e",
   "metadata": {},
   "source": [
    "Is that about what you would expect? Why?\n",
    "\n",
    "Yes that is what is expected. The numbers center around 0, rarely generating numbers above 2, which is expected with a normal distribution. "
   ]
  },
  {
   "cell_type": "markdown",
   "id": "3b1f1327-3bb6-40c0-afea-3be90bdce761",
   "metadata": {},
   "source": [
    "---"
   ]
  },
  {
   "cell_type": "markdown",
   "id": "0cd72307-15a6-4a6c-890a-707c23c959aa",
   "metadata": {},
   "source": [
    "As always, we can use `rng.<tab>` to see what methods (statistical distributions in this case) are available. We can then use the help (e.g. `help(rng.normal`) to get help for that particular method."
   ]
  },
  {
   "cell_type": "markdown",
   "id": "3c0dc9f8-0590-46b2-8282-9cebc6787dad",
   "metadata": {},
   "source": [
    "---"
   ]
  },
  {
   "cell_type": "markdown",
   "id": "b4c5a5fb-14dd-4a41-8328-959b2a6c005b",
   "metadata": {},
   "source": [
    "In the cell below, get 100 samples from the Student's *t* distribution with 41 degrees of freedom, and plot (e.g. histogram) the resulting distribution."
   ]
  },
  {
   "cell_type": "code",
   "execution_count": 6,
   "id": "80397a3e-347f-4bb3-9b14-02d0689183ae",
   "metadata": {},
   "outputs": [
    {
     "data": {
      "text/plain": [
       "(array([ 5.,  3.,  6.,  9., 19., 17., 19., 10.,  6.,  2.,  2.,  0.,  1.,\n",
       "         1.]),\n",
       " array([-2.29110938, -1.88765571, -1.48420204, -1.08074837, -0.6772947 ,\n",
       "        -0.27384103,  0.12961264,  0.53306631,  0.93651999,  1.33997366,\n",
       "         1.74342733,  2.146881  ,  2.55033467,  2.95378834,  3.35724201]),\n",
       " <BarContainer object of 14 artists>)"
      ]
     },
     "execution_count": 6,
     "metadata": {},
     "output_type": "execute_result"
    },
    {
     "data": {
      "image/png": "[encoded data removed]",
      "text/plain": [
       "<Figure size 640x480 with 1 Axes>"
      ]
     },
     "metadata": {},
     "output_type": "display_data"
    }
   ],
   "source": [
    "t_dist = rng.standard_t(size = 100, df = 41)\n",
    "plt.hist(t_dist, edgecolor = 'black', bins = 14)"
   ]
  },
  {
   "cell_type": "markdown",
   "id": "523c2d06-0c98-4b2c-93e1-66301b031cfe",
   "metadata": {},
   "source": [
    "Re-run the above a few times. Do the distributions look reasonable for a *t* distribution with *df* > 30?"
   ]
  },
  {
   "cell_type": "markdown",
   "id": "497e7ab4-2474-4738-ac41-e1b76f82e015",
   "metadata": {},
   "source": [
    "Pretty much. The curve is basically a bell curve. "
   ]
  },
  {
   "cell_type": "markdown",
   "id": "309b1792-2606-46ae-9bdf-db7a25644129",
   "metadata": {},
   "source": [
    "---"
   ]
  },
  {
   "cell_type": "markdown",
   "id": "b9806853-c1c5-4a7b-a53e-931c40ddd5f1",
   "metadata": {},
   "source": [
    "## Simple simulations"
   ]
  },
  {
   "cell_type": "markdown",
   "id": "980f6042-6db3-43dc-9a56-e240f00457f1",
   "metadata": {},
   "source": [
    "The very idea of simulating something complicated can seem daunting if not impossible at first. How would we simulate something as complicated as a soccer game or traffic on a social media platform? Where would we even start? To get the idea of simulations, let's start by simulating a couple of very simple situations, coin flips and rolls of the dice."
   ]
  },
  {
   "cell_type": "markdown",
   "id": "644c742e-bef0-4215-9368-ca325ba4e246",
   "metadata": {},
   "source": [
    "### Coin Flips"
   ]
  },
  {
   "cell_type": "markdown",
   "id": "e9a93aec-b2f5-4055-af43-d348fdeb3413",
   "metadata": {},
   "source": [
    "A coin flip is probably the simplest physical situation we could simulate, so that's a great place to start. Any event that has to have one of two outcomes is known as a \"Bernoulli trial\" (after a famous mathematicion Daniel Bernoulli). This includes coin flips, answers to yes/no questions, consumer \"to buy or not to buy\" decisions, voting behavior, etc. "
   ]
  },
  {
   "cell_type": "markdown",
   "id": "1981e5b9-937b-4f4c-abd2-18d7b163f67c",
   "metadata": {},
   "source": [
    "Generally, we are interested in the sum of the results of many Bernoulli trials – for example, it is the total number of people that voted for canditate A (vs. candidate B) that determines the winner of an election.  A single set of Bernolli trials is called an \"experiment\". The outcome of such experiments, the sum of some number of Bernolli trials, has a *binomial* distribution. Thus, such simulations are done using the `rng.binomial()` method.\n",
    "\n",
    "The binomial distribution has two parameters, \n",
    "\n",
    "- the number of trials (e.g. the number of people voting in an election), and \n",
    "- the probability of one of the outcomes occuring on a single trial.\n",
    "\n",
    "(note that only one probability is needed, because the probability of the second is 1 minus the probability of the first) \n",
    "\n",
    "In terms of a coin, this translates to the number of times we flip a coin, and the probability that our coin comes up \"heads\" on any one trial."
   ]
  },
  {
   "cell_type": "markdown",
   "id": "27be5897-c30d-4616-8288-ac8a47e58e9b",
   "metadata": {},
   "source": [
    "#### A Fair Coin"
   ]
  },
  {
   "cell_type": "markdown",
   "id": "88a1c2dc-2653-4459-85fe-a3633e8e4269",
   "metadata": {},
   "source": [
    "First, let's reset our random number generator, `rng`, with a seed of 42 so everybody gets the same output."
   ]
  },
  {
   "cell_type": "markdown",
   "id": "3c9afc83-c3d4-4d4e-b4f1-b27a6a7dcce9",
   "metadata": {},
   "source": [
    "---"
   ]
  },
  {
   "cell_type": "markdown",
   "id": "12066c4c-12f4-47b6-a3ad-6a6ef17d8177",
   "metadata": {},
   "source": [
    "Reset `rng` with a seed of 42 below:"
   ]
  },
  {
   "cell_type": "code",
   "execution_count": 7,
   "id": "f8156136-5320-4c6f-82cb-33c8a46cc3aa",
   "metadata": {
    "tags": []
   },
   "outputs": [],
   "source": [
    "rng = np.random.default_rng(42)"
   ]
  },
  {
   "cell_type": "markdown",
   "id": "84b86996-9041-48c6-b99f-4b4c91e6fb5d",
   "metadata": {},
   "source": [
    "(We'll be resetting the generator back to 42 a lot – so, if you're feeling plucky, you could write yourself a little function with a short name to do this!)"
   ]
  },
  {
   "cell_type": "code",
   "execution_count": 8,
   "id": "8f98874a-4658-44ca-b8d2-dad20db04b65",
   "metadata": {},
   "outputs": [],
   "source": [
    "def reset(seed = 42): \n",
    "    rng = np.random.default_rng(seed)\n",
    "    \n",
    "    return rng"
   ]
  },
  {
   "cell_type": "markdown",
   "id": "5efe79eb-c854-4ce4-bbc9-3933a0898448",
   "metadata": {},
   "source": [
    "---"
   ]
  },
  {
   "cell_type": "markdown",
   "id": "9b395d7d-58c5-4d9b-ae76-81ac31bb7607",
   "metadata": {},
   "source": [
    "And now let's simulate a fair coin or, more precisely, an experiment on a fair coin."
   ]
  },
  {
   "cell_type": "markdown",
   "id": "526c6513-09e1-4c01-8a9a-3c7b58e493c3",
   "metadata": {},
   "source": [
    "---"
   ]
  },
  {
   "cell_type": "markdown",
   "id": "d3a9eff7-7415-4b62-a8c6-279a463da675",
   "metadata": {},
   "source": [
    "In the cell below, use `rng.binomial()` to do a simulation giving the number of heads resulting from a fair coin being flipped 10 times:"
   ]
  },
  {
   "cell_type": "code",
   "execution_count": 9,
   "id": "a4372148-3055-457b-8d6d-1c8f210be399",
   "metadata": {},
   "outputs": [
    {
     "data": {
      "text/plain": [
       "array([1, 0, 1, 1, 0, 1, 1, 1, 0, 0])"
      ]
     },
     "execution_count": 9,
     "metadata": {},
     "output_type": "execute_result"
    }
   ],
   "source": [
    "rng.binomial(n = 1, p = 0.5, size = 10)"
   ]
  },
  {
   "cell_type": "markdown",
   "id": "b22d1d2b-b433-4291-8969-fc1ddcde9bf6",
   "metadata": {},
   "source": [
    "Because we reset our random number generator, you should have gotten a 6. Run the above code a few more times, noting the numbers."
   ]
  },
  {
   "cell_type": "markdown",
   "id": "43ddd6eb-f39c-4774-90f9-dc0a5d0cee5c",
   "metadata": {},
   "source": [
    "Now reset the generator to a seed of 42 again:"
   ]
  },
  {
   "cell_type": "code",
   "execution_count": 10,
   "id": "7c351cbd-8a02-474c-b5c2-a5321c43c0c6",
   "metadata": {},
   "outputs": [],
   "source": [
    "rng = reset()"
   ]
  },
  {
   "cell_type": "markdown",
   "id": "78986fb2-884e-4cd6-8f24-4989638b627d",
   "metadata": {},
   "source": [
    "And get a new sequence of number-of-heads for 10 flips of a fair coin to confirm you get the same sequence. "
   ]
  },
  {
   "cell_type": "code",
   "execution_count": 11,
   "id": "bbdcdfc6-b648-4e7c-95fc-d70132ccd4e9",
   "metadata": {},
   "outputs": [
    {
     "data": {
      "text/plain": [
       "array([1, 0, 1, 1, 0, 1, 1, 1, 0, 0])"
      ]
     },
     "execution_count": 11,
     "metadata": {},
     "output_type": "execute_result"
    }
   ],
   "source": [
    "rng.binomial(n = 1, p = 0.5, size = 10)"
   ]
  },
  {
   "cell_type": "markdown",
   "id": "03c8d5ac-4125-4bdb-8796-f050205b7de4",
   "metadata": {},
   "source": [
    "Now reset the seed to something else, and run a few more binomial experiments."
   ]
  },
  {
   "cell_type": "code",
   "execution_count": 12,
   "id": "c9e8fe54-978d-4f25-9bb7-eeb7b2c3f99d",
   "metadata": {},
   "outputs": [],
   "source": [
    "rng = reset(30)"
   ]
  },
  {
   "cell_type": "code",
   "execution_count": 13,
   "id": "a91e99eb",
   "metadata": {},
   "outputs": [
    {
     "data": {
      "text/plain": [
       "array([0, 0, 0, 1, 1, 1, 0, 0, 0, 1])"
      ]
     },
     "execution_count": 13,
     "metadata": {},
     "output_type": "execute_result"
    }
   ],
   "source": [
    "rng.binomial(n = 1, p = 0.5, size = 10)"
   ]
  },
  {
   "cell_type": "markdown",
   "id": "f4b394cd-00ab-4e35-a9f9-a138908b0374",
   "metadata": {},
   "source": [
    "You should see a different sequence of numbers because you used a different seed."
   ]
  },
  {
   "cell_type": "markdown",
   "id": "e863f60d-41e6-4ed2-91df-7d257924c61f",
   "metadata": {},
   "source": [
    "---"
   ]
  },
  {
   "cell_type": "markdown",
   "id": "dadd6eda-41be-46ff-ac58-1db922a5aa77",
   "metadata": {},
   "source": [
    "##### *Simulating Many Experiments*"
   ]
  },
  {
   "cell_type": "markdown",
   "id": "03f3fecc-461d-4630-810a-7a3a8cb42d6f",
   "metadata": {},
   "source": [
    "Simulating one experiment or event isn't very helpful in and of itself. Just because a single simulation said we'll get 6 out 10 heads doesn't mean we'll get that if we really do the coin flips!\n",
    "\n",
    "The advantage of computer simulations is that they let us easily and rapidly compute the outcome of thousands or even millions of experiments in order to compute the *distribution* of likely outcomes – the \"danger zone\" in the rocket and hurricane examples."
   ]
  },
  {
   "cell_type": "markdown",
   "id": "1fece1c4-417d-48ef-bb4d-8c9a947682b2",
   "metadata": {},
   "source": [
    "You might be thinking \"time for a `for` loop!\" right now. Great! The `for` loop is used quite a bit in doing simulations! In this case, however, the `rng.binomial()` method takes an optional 3rd argument, which is the number of experiments to run. (The fact that it has this third argument is a clue that was written with simulations in mind!)"
   ]
  },
  {
   "cell_type": "markdown",
   "id": "19cffc62-045b-47fb-9915-504891fbfae5",
   "metadata": {},
   "source": [
    "---"
   ]
  },
  {
   "cell_type": "markdown",
   "id": "28e005b5-9b05-4b9a-8e99-cd54aacb09e1",
   "metadata": {},
   "source": [
    "In the cell below, take advatage of of this third argument to simulate 100000 experiments, each consisting of 10 flips of a fair coin. Assign the output to the name `n_heads` (i.e. `n_heads = rng.binomial...`)."
   ]
  },
  {
   "cell_type": "code",
   "execution_count": 14,
   "id": "666aca84-67a7-436a-8920-e2c7596257b5",
   "metadata": {},
   "outputs": [
    {
     "data": {
      "text/plain": [
       "array([6, 5, 7, ..., 5, 3, 7])"
      ]
     },
     "execution_count": 14,
     "metadata": {},
     "output_type": "execute_result"
    }
   ],
   "source": [
    "rng = reset() # reset the genny\n",
    "    \n",
    "rng.binomial(n = 10, p = 0.5, size = 100000) # define of trials, probability of a head on each trial\n",
    " # and number of experiments to simulate"
   ]
  },
  {
   "cell_type": "code",
   "execution_count": 15,
   "id": "63acb1b1-a93d-48c8-8d19-9a78052b9474",
   "metadata": {},
   "outputs": [],
   "source": [
    " n_heads =  rng.binomial(n = 10, p = 0.5, size = 100000) # run the simulations using rng.binomial"
   ]
  },
  {
   "cell_type": "markdown",
   "id": "6890d679-0d90-4567-8dce-d90328b8e16c",
   "metadata": {},
   "source": [
    "---"
   ]
  },
  {
   "cell_type": "markdown",
   "id": "890bd102-bfb8-4631-b596-87820d71ceb8",
   "metadata": {},
   "source": [
    "In the cell below, make a histogram of the outcomes, `n_heads`, from our 100000 experiments. For best results, set the binwidth to 1 and make the x-axis go from 0 to 10. The \"goto\" `sns.displot()` should work well for this!"
   ]
  },
  {
   "cell_type": "code",
   "execution_count": 16,
   "id": "822a7975-11e9-429f-a846-564d9968d168",
   "metadata": {},
   "outputs": [
    {
     "data": {
      "text/plain": [
       "<seaborn.axisgrid.FacetGrid at 0x7fe84b44ca90>"
      ]
     },
     "execution_count": 16,
     "metadata": {},
     "output_type": "execute_result"
    },
    {
     "data": {
      "image/png": "[encoded data removed]",
      "text/plain": [
       "<Figure size 500x500 with 1 Axes>"
      ]
     },
     "metadata": {},
     "output_type": "display_data"
    }
   ],
   "source": [
    "my_hist = sns.displot(n_heads, binwidth = 1, binrange = (-0.5,10.5))\n",
    "my_hist.set(xlim = (-0.5,11))"
   ]
  },
  {
   "cell_type": "markdown",
   "id": "f9897f00-d170-4eca-bd86-ea767ff87391",
   "metadata": {},
   "source": [
    "Based upon this histogram, if somebody flipped a coin 10 times and came up with 2 heads, would you suspect that person of cheating? Why or why not?"
   ]
  },
  {
   "cell_type": "markdown",
   "id": "573f69d3-3914-4d27-9bc6-aef76830cfb1",
   "metadata": {},
   "source": [
    "It's unlikely but I wouldn't suspect cheating."
   ]
  },
  {
   "cell_type": "markdown",
   "id": "4f98ae06-dc7c-4bbc-9760-b8b2f730813c",
   "metadata": {},
   "source": [
    "What about 10 heads?"
   ]
  },
  {
   "cell_type": "markdown",
   "id": "598da9a0-1c3d-45a5-8325-b13dadb6d3f7",
   "metadata": {},
   "source": [
    "I would because it's extremely unlikely."
   ]
  },
  {
   "cell_type": "markdown",
   "id": "51f9dec5-fbeb-4ae4-a630-443e9860d5f2",
   "metadata": {},
   "source": [
    "---"
   ]
  },
  {
   "cell_type": "markdown",
   "id": "bbf1dbef-13f0-4c28-9211-ec9979f48002",
   "metadata": {},
   "source": [
    "#### The Normal (Gaussian) Approximation"
   ]
  },
  {
   "cell_type": "markdown",
   "id": "d9eaa84f-561e-4fef-a60b-dd6045ad7b53",
   "metadata": {},
   "source": [
    "A binomial distribution can be approximated as a Gaussian with \n",
    "\n",
    "$\\mu = n*p$ \n",
    "\n",
    "and \n",
    "\n",
    "$\\sigma = \\sqrt{n*p*(1-p)}$"
   ]
  },
  {
   "cell_type": "markdown",
   "id": "76c4a68a-ef75-4ce9-9bd7-8f9d85b2e57b",
   "metadata": {},
   "source": [
    "---"
   ]
  },
  {
   "cell_type": "markdown",
   "id": "c0823043-423d-436b-8e5d-a20e115f2634",
   "metadata": {},
   "source": [
    "Use the cell below to caluculate the mean and standard deviation of n_heads."
   ]
  },
  {
   "cell_type": "code",
   "execution_count": 17,
   "id": "585adf9f-0b71-484b-9a88-c8cab03f5d96",
   "metadata": {},
   "outputs": [
    {
     "data": {
      "text/plain": [
       "4.99786"
      ]
     },
     "execution_count": 17,
     "metadata": {},
     "output_type": "execute_result"
    }
   ],
   "source": [
    "n_heads.mean()"
   ]
  },
  {
   "cell_type": "code",
   "execution_count": 18,
   "id": "07ff0d39",
   "metadata": {},
   "outputs": [
    {
     "data": {
      "text/plain": [
       "1.5813903440959793"
      ]
     },
     "execution_count": 18,
     "metadata": {},
     "output_type": "execute_result"
    }
   ],
   "source": [
    "n_heads.std()"
   ]
  },
  {
   "cell_type": "markdown",
   "id": "79f20324-afd4-4ade-a40f-144e1cecadae",
   "metadata": {},
   "source": [
    "Does the Gaussian approximation seem like a good one in this case?"
   ]
  },
  {
   "cell_type": "markdown",
   "id": "18f82bad-57fc-4e08-9d8c-ebdcb89cd6d1",
   "metadata": {},
   "source": [
    "Yep it's a pretty good approximation. "
   ]
  },
  {
   "cell_type": "markdown",
   "id": "9e6844a6-489c-4998-a341-d2b0d7d2cbf5",
   "metadata": {},
   "source": [
    "---"
   ]
  },
  {
   "cell_type": "markdown",
   "id": "e130c08f-d2ed-457e-acd3-ace57a43b618",
   "metadata": {},
   "source": [
    "#### An Unfair Coin"
   ]
  },
  {
   "cell_type": "markdown",
   "id": "c44639c6-8ea4-4ef7-a8a1-d22c68cbdd67",
   "metadata": {},
   "source": [
    "Perhaps surprisingly, it's almost impossible to make a biased coin because they are so thin relative to the size of their sides. However, we *can* easily simulate a biased coin so we would know what to look for if anyone did figure out how to make one."
   ]
  },
  {
   "cell_type": "markdown",
   "id": "3d5ab473-d6c6-4d7b-ba49-21fc16e41bb5",
   "metadata": {},
   "source": [
    "---"
   ]
  },
  {
   "cell_type": "markdown",
   "id": "44be871f-9ee8-48a1-9069-f94d4e415792",
   "metadata": {},
   "source": [
    "Use the cell below to simulate the same experiment as above, but using a coin that lands on heads 75% of the time on average."
   ]
  },
  {
   "cell_type": "code",
   "execution_count": 19,
   "id": "2933df5a-d5a9-4c54-a597-a29b32cc4b87",
   "metadata": {},
   "outputs": [],
   "source": [
    "rng = reset()\n",
    "n_heads =  rng.binomial(n = 10, p = 0.75, size = 100000)"
   ]
  },
  {
   "cell_type": "markdown",
   "id": "4ca26b81-05d0-4334-82ce-60f2f1faecfa",
   "metadata": {},
   "source": [
    "Now make a histogram of the outcomes (for the rest of the notebook, we'll just take it for granted that we'll be making histograms of our outputs)."
   ]
  },
  {
   "cell_type": "code",
   "execution_count": 20,
   "id": "1cfb2264-dbd1-49f3-a821-e89011c57226",
   "metadata": {},
   "outputs": [
    {
     "data": {
      "text/plain": [
       "<seaborn.axisgrid.FacetGrid at 0x7fe84b9489d0>"
      ]
     },
     "execution_count": 20,
     "metadata": {},
     "output_type": "execute_result"
    },
    {
     "data": {
      "image/png": "[encoded data removed]",
      "text/plain": [
       "<Figure size 500x500 with 1 Axes>"
      ]
     },
     "metadata": {},
     "output_type": "display_data"
    }
   ],
   "source": [
    "unfair_hist = sns.displot(n_heads, binwidth = 1, binrange = (-0.5,10.5))\n",
    "unfair_hist.set(xlim = (-0.5,11))"
   ]
  },
  {
   "cell_type": "markdown",
   "id": "8c41aa5e-ede8-402f-8b3b-6cae386aa645",
   "metadata": {},
   "source": [
    "How did it change the distribution? Did the mean shift? Did the shape change?"
   ]
  },
  {
   "cell_type": "markdown",
   "id": "2323f67a-c457-4e85-9f8b-eb32b629a7bd",
   "metadata": {},
   "source": [
    "The mean shifted to around 8 and the distribution itself is skewed. "
   ]
  },
  {
   "cell_type": "markdown",
   "id": "07e47c35-c5ba-401e-804a-674eb1d9340c",
   "metadata": {},
   "source": [
    "---"
   ]
  },
  {
   "cell_type": "markdown",
   "id": "ff7f5922-53f9-4a27-b9c1-f19dfcd8ab34",
   "metadata": {},
   "source": [
    "## Simulating Elections"
   ]
  },
  {
   "cell_type": "markdown",
   "id": "1615be32-b122-4054-9140-39c8e42a0885",
   "metadata": {},
   "source": [
    "Armed with nothing more than our ability to model coinflips, we can also simulate a surprising amount of other things, such as elections. Literally anything that can be reduced to a series to two-alternitave choices can be simulated using the binomial distribution."
   ]
  },
  {
   "cell_type": "markdown",
   "id": "a1aa7c80-342d-489f-b7a4-767da47ce4a0",
   "metadata": {},
   "source": [
    "Let's say there is an upcoming election in which one million people were expected to vote, and candidate \"A\" is leading in the polls at 52% vs. 48%. Here is a simple simulation of this election – the number of votes for candidate A – assuming the polling is accurate."
   ]
  },
  {
   "cell_type": "code",
   "execution_count": 21,
   "id": "d89ed4bc-7726-426e-ac46-73a924948c5a",
   "metadata": {
    "tags": []
   },
   "outputs": [
    {
     "data": {
      "text/plain": [
       "519499"
      ]
     },
     "execution_count": 21,
     "metadata": {},
     "output_type": "execute_result"
    }
   ],
   "source": [
    "rng.binomial(1000001, .52)"
   ]
  },
  {
   "cell_type": "markdown",
   "id": "3a8850da-87e6-4da0-8cc7-6e1bccfb4a7e",
   "metadata": {},
   "source": [
    "---"
   ]
  },
  {
   "cell_type": "markdown",
   "id": "5881979a-5273-4441-bd14-512fb93495da",
   "metadata": {},
   "source": [
    "Re-run the above simulation until you think you have a good idea of how often the underdog – poor candidate B – is likely to win."
   ]
  },
  {
   "cell_type": "markdown",
   "id": "63b64ea7-b201-43e0-b1c2-2218b4da81f7",
   "metadata": {},
   "source": [
    "Now, in the cell below, change the simulation so that there are only 11 voters – like perhaps a soccer team is chosing between two potential captains, and only the starters get to vote. Run the simulation until you get again get a feel for how often the underdog prevails."
   ]
  },
  {
   "cell_type": "code",
   "execution_count": 22,
   "id": "e89d4948-5baf-44d1-93a3-ce03bf704aef",
   "metadata": {
    "tags": []
   },
   "outputs": [
    {
     "data": {
      "text/plain": [
       "5"
      ]
     },
     "execution_count": 22,
     "metadata": {},
     "output_type": "execute_result"
    }
   ],
   "source": [
    "rng.binomial(n = 11, p = 0.52)"
   ]
  },
  {
   "cell_type": "markdown",
   "id": "2e6df0f6-bda6-4fe6-8dba-49ea02cd0dc1",
   "metadata": {},
   "source": [
    "In the cell below, offer an explanation of why, with the same p = 0.52, the underdog prevails more in one case than another."
   ]
  },
  {
   "cell_type": "markdown",
   "id": "14742c41-f9c1-4caa-afc8-933c51972941",
   "metadata": {},
   "source": [
    "Because it's a small sample size. "
   ]
  },
  {
   "cell_type": "markdown",
   "id": "325d2094-0c28-4319-97b1-42a562528e2a",
   "metadata": {},
   "source": [
    "---"
   ]
  },
  {
   "cell_type": "markdown",
   "id": "aab030ce-164f-4ea2-aefb-1325698c5c6a",
   "metadata": {},
   "source": [
    "### Simulating election results based on a single poll"
   ]
  },
  {
   "cell_type": "markdown",
   "id": "48f06a3b-7382-416e-b9fe-97b4491f481b",
   "metadata": {},
   "source": [
    "Above, we simulated one election at a time but, as with the coins, we really want to do many many experiments so that we can see the distribution of likely election outcomes."
   ]
  },
  {
   "cell_type": "markdown",
   "id": "233c86c5-0172-437a-9c80-ccfc335f9670",
   "metadata": {},
   "source": [
    "#### *single poll, many elections*"
   ]
  },
  {
   "cell_type": "markdown",
   "id": "4c5ce45a-f042-4403-b410-d8c515451f1b",
   "metadata": {},
   "source": [
    "Let's say we have a poll of 2000 likely voters for a mayoral race from a smallish city that shows candidate A up by 51% to 49%. We expect a voter turnout of 100,000 people. We want to simulate this election, and we'll do the simulation 20,000 times to generate the distribution of likely outcomes."
   ]
  },
  {
   "cell_type": "markdown",
   "id": "d40ce223-39b4-4e90-b578-c456670dd641",
   "metadata": {},
   "source": [
    "---"
   ]
  },
  {
   "cell_type": "markdown",
   "id": "e48b8920-39f7-4fb6-86ac-639dcfa37e48",
   "metadata": {},
   "source": [
    "In the cell below, reset the random number generator to a seed of 42."
   ]
  },
  {
   "cell_type": "code",
   "execution_count": 23,
   "id": "24caf23f-bf59-432b-ad48-17e7e41d2b87",
   "metadata": {},
   "outputs": [],
   "source": [
    "rng = reset()"
   ]
  },
  {
   "cell_type": "markdown",
   "id": "d55d7e93-18fa-4e91-995b-9bd410d14024",
   "metadata": {},
   "source": [
    "Now define names (variables) for the probability corresponding to 51%, the expected number of voters, 100,000, and the number of simulations to run, 20,000."
   ]
  },
  {
   "cell_type": "code",
   "execution_count": 24,
   "id": "fe6d6fed-f495-4597-a0ab-519a4da2066d",
   "metadata": {},
   "outputs": [],
   "source": [
    "vote_a = rng.binomial(n = 100000, p = 0.51, size = 20000)"
   ]
  },
  {
   "cell_type": "markdown",
   "id": "bb2a9d1c-13f3-41f7-8704-0e0c9875ad86",
   "metadata": {},
   "source": [
    "And run and plot the our simulations."
   ]
  },
  {
   "cell_type": "code",
   "execution_count": 25,
   "id": "ce205e80-e8b2-4410-b64e-5d081b2a0f9b",
   "metadata": {},
   "outputs": [
    {
     "data": {
      "text/plain": [
       "<seaborn.axisgrid.FacetGrid at 0x7fe84b46a4c0>"
      ]
     },
     "execution_count": 25,
     "metadata": {},
     "output_type": "execute_result"
    },
    {
     "data": {
      "image/png": "[encoded data removed]",
      "text/plain": [
       "<Figure size 500x500 with 1 Axes>"
      ]
     },
     "metadata": {},
     "output_type": "display_data"
    }
   ],
   "source": [
    "vote_hist = sns.displot(vote_a)\n",
    "vote_hist"
   ]
  },
  {
   "cell_type": "markdown",
   "id": "39f936a5-a167-4579-94cd-784ea4a85405",
   "metadata": {},
   "source": [
    "Around how many times did candidate B pull off the upset in our simulated elections?"
   ]
  },
  {
   "cell_type": "markdown",
   "id": "9bce27d9-a45e-4d2e-91d4-7ccb79122b70",
   "metadata": {},
   "source": [
    "i dont know"
   ]
  },
  {
   "cell_type": "markdown",
   "id": "5b2f59e0-756b-4384-ae4b-deff041a555e",
   "metadata": {},
   "source": [
    "---"
   ]
  },
  {
   "cell_type": "markdown",
   "id": "b91ee92e-87e7-4ad2-a637-da007b2213d0",
   "metadata": {},
   "source": [
    "#### Polls aren't perfect!"
   ]
  },
  {
   "cell_type": "markdown",
   "id": "0f177d41-b407-4731-86f6-f3ca906e620a",
   "metadata": {},
   "source": [
    "If we conduct a poll, we get an *estimate* of how many people in a sample (usually around 2000 people) will vote for each candidate. Polls are always reported with a \"margin of error\" that will be around 2% for a poll with n = 2000. For the above poll, a news blurb might read something like \n",
    "\n",
    "\"Candidate A is leading Candidate B by 51% to 49%, but that's within the margin of error of 2%, so it's currently a statistical tie.\"\n",
    "\n",
    "What is the margin of error? It is simply the 95% confidence interval on the percentage. What it's saying is that 1) the outcome of a poll is inherently variable and 2) the variability (which is approximately normally distributed) is such that +/- 2% encloses 95% of the distribution of possible poll outcomes. (If we remember our stats, we'll realize that the *standard error* of the poll is thus about 1%). \n",
    "\n",
    "The bottom line is that, if our above simulation was correct, candidate B should have won at least some of the time! The problem is that we were treating the *estimate* from the poll as a fixed constant, rather than as a variable that should fluxuate from experiment to experiment in our simulation.\n",
    "\n",
    "How would we go about incorporating this variability into our simulations? Easy! Instead of considering the poll to be a fixed result, we'll include *a simulation of the poll* into each experiment, along with the simulation of the election."
   ]
  },
  {
   "cell_type": "markdown",
   "id": "34e2375d-f990-47ca-95f7-ec8233a240ea",
   "metadata": {},
   "source": [
    "#### *simulate poll -> simulate election*"
   ]
  },
  {
   "cell_type": "markdown",
   "id": "8ce21ffb-019a-49df-999d-3987cbe8003c",
   "metadata": {},
   "source": [
    "From a coding standpoint, one obvious way to add polling variability to each experiment would be something like this:\n",
    "```\n",
    "for i in range(n_sims) :\n",
    "    # compute a poll result using rng.binomial() where p = original poll estimate\n",
    "    # compute an election result where p = simulated poll result\n",
    "    # store election result\n",
    "```"
   ]
  },
  {
   "cell_type": "markdown",
   "id": "69b455cd-19c2-4f0d-a8f5-95d9e1f098e3",
   "metadata": {},
   "source": [
    "However, if we get help on the binomial via `help(rng.binomial`)..."
   ]
  },
  {
   "cell_type": "code",
   "execution_count": 26,
   "id": "e5cc6a59-20e4-4dab-afb7-f7e44012d13b",
   "metadata": {},
   "outputs": [
    {
     "name": "stdout",
     "output_type": "stream",
     "text": [
      "Help on built-in function binomial:\n",
      "\n",
      "binomial(...) method of numpy.random._generator.Generator instance\n",
      "    binomial(n, p, size=None)\n",
      "    \n",
      "    Draw samples from a binomial distribution.\n",
      "    \n",
      "    Samples are drawn from a binomial distribution with specified\n",
      "    parameters, n trials and p probability of success where\n",
      "    n an integer >= 0 and p is in the interval [0,1]. (n may be\n",
      "    input as a float, but it is truncated to an integer in use)\n",
      "    \n",
      "    Parameters\n",
      "    ----------\n",
      "    n : int or array_like of ints\n",
      "        Parameter of the distribution, >= 0. Floats are also accepted,\n",
      "        but they will be truncated to integers.\n",
      "    p : float or array_like of floats\n",
      "        Parameter of the distribution, >= 0 and <=1.\n",
      "    size : int or tuple of ints, optional\n",
      "        Output shape.  If the given shape is, e.g., ``(m, n, k)``, then\n",
      "        ``m * n * k`` samples are drawn.  If size is ``None`` (default),\n",
      "        a single value is returned if ``n`` and ``p`` are both scalars.\n",
      "        Otherwise, ``np.broadcast(n, p).size`` samples are drawn.\n",
      "    \n",
      "    Returns\n",
      "    -------\n",
      "    out : ndarray or scalar\n",
      "        Drawn samples from the parameterized binomial distribution, where\n",
      "        each sample is equal to the number of successes over the n trials.\n",
      "    \n",
      "    See Also\n",
      "    --------\n",
      "    scipy.stats.binom : probability density function, distribution or\n",
      "        cumulative density function, etc.\n",
      "    \n",
      "    Notes\n",
      "    -----\n",
      "    The probability density for the binomial distribution is\n",
      "    \n",
      "    .. math:: P(N) = \\binom{n}{N}p^N(1-p)^{n-N},\n",
      "    \n",
      "    where :math:`n` is the number of trials, :math:`p` is the probability\n",
      "    of success, and :math:`N` is the number of successes.\n",
      "    \n",
      "    When estimating the standard error of a proportion in a population by\n",
      "    using a random sample, the normal distribution works well unless the\n",
      "    product p*n <=5, where p = population proportion estimate, and n =\n",
      "    number of samples, in which case the binomial distribution is used\n",
      "    instead. For example, a sample of 15 people shows 4 who are left\n",
      "    handed, and 11 who are right handed. Then p = 4/15 = 27%. 0.27*15 = 4,\n",
      "    so the binomial distribution should be used in this case.\n",
      "    \n",
      "    References\n",
      "    ----------\n",
      "    .. [1] Dalgaard, Peter, \"Introductory Statistics with R\",\n",
      "           Springer-Verlag, 2002.\n",
      "    .. [2] Glantz, Stanton A. \"Primer of Biostatistics.\", McGraw-Hill,\n",
      "           Fifth Edition, 2002.\n",
      "    .. [3] Lentner, Marvin, \"Elementary Applied Statistics\", Bogden\n",
      "           and Quigley, 1972.\n",
      "    .. [4] Weisstein, Eric W. \"Binomial Distribution.\" From MathWorld--A\n",
      "           Wolfram Web Resource.\n",
      "           http://mathworld.wolfram.com/BinomialDistribution.html\n",
      "    .. [5] Wikipedia, \"Binomial distribution\",\n",
      "           https://en.wikipedia.org/wiki/Binomial_distribution\n",
      "    \n",
      "    Examples\n",
      "    --------\n",
      "    Draw samples from the distribution:\n",
      "    \n",
      "    >>> rng = np.random.default_rng()\n",
      "    >>> n, p = 10, .5  # number of trials, probability of each trial\n",
      "    >>> s = rng.binomial(n, p, 1000)\n",
      "    # result of flipping a coin 10 times, tested 1000 times.\n",
      "    \n",
      "    A real world example. A company drills 9 wild-cat oil exploration\n",
      "    wells, each with an estimated probability of success of 0.1. All nine\n",
      "    wells fail. What is the probability of that happening?\n",
      "    \n",
      "    Let's do 20,000 trials of the model, and count the number that\n",
      "    generate zero positive results.\n",
      "    \n",
      "    >>> sum(rng.binomial(9, 0.1, 20000) == 0)/20000.\n",
      "    # answer = 0.38885, or 39%.\n",
      "\n"
     ]
    }
   ],
   "source": [
    "help(rng.binomial)"
   ]
  },
  {
   "cell_type": "markdown",
   "id": "89e04c61-ef0a-438a-985c-b7c29ae60568",
   "metadata": {},
   "source": [
    "We can see that either of the first two arguments can be vectors, allowing us to specify different probabilities (or sample sizes) for each experiment if we wish. So now we can conduct a new poll for each of our experiments with one call to `rng.binomial()`, and use the resulting poll numbers for our simulated elections. We'll simulate each poll assuming that the original poll result, p = 0.51, is our best guess as to the \"true\" underlying probability."
   ]
  },
  {
   "cell_type": "markdown",
   "id": "42f5bf97-bee3-4fd1-9440-6f13038a3900",
   "metadata": {},
   "source": [
    "First, let's reset our generator back to 42."
   ]
  },
  {
   "cell_type": "code",
   "execution_count": 41,
   "id": "31ca8295-c505-46a7-bb24-9317ec457a9a",
   "metadata": {},
   "outputs": [],
   "source": [
    "rng = reset()"
   ]
  },
  {
   "cell_type": "markdown",
   "id": "3488cce7-68b9-40af-85d9-f722f14b4bab",
   "metadata": {},
   "source": [
    "Let's set up our constants."
   ]
  },
  {
   "cell_type": "code",
   "execution_count": 51,
   "id": "abf60b1f-d056-476c-b4c1-2faee280b691",
   "metadata": {},
   "outputs": [],
   "source": [
    "p = 0.51 # best guess of \"true\" probabilit\n",
    "n = 1000 # poll sample size\n",
    "size = 200 # number of simulations to run"
   ]
  },
  {
   "cell_type": "markdown",
   "id": "4eac2188-c704-45ef-b599-db74cea77ec0",
   "metadata": {},
   "source": [
    "And conduct the polls."
   ]
  },
  {
   "cell_type": "code",
   "execution_count": 59,
   "id": "0cbfcfbd-6f78-4f0c-ac51-9a18bdd50f68",
   "metadata": {},
   "outputs": [],
   "source": [
    "polls = rng.binomial(n, p, size) # get the polling results"
   ]
  },
  {
   "cell_type": "markdown",
   "id": "7f56e543-dbea-49a1-b637-9fd0818958ca",
   "metadata": {},
   "source": [
    "Now will convert the poll results, which are in terms of total number of people saying they will vote for \"A\", to probabilities."
   ]
  },
  {
   "cell_type": "code",
   "execution_count": 63,
   "id": "3596515e-4ef4-401c-b74b-81e1d86f0178",
   "metadata": {},
   "outputs": [],
   "source": [
    "prob = polls/1000 # convert to probabilities"
   ]
  },
  {
   "cell_type": "markdown",
   "id": "67e3b7dd-c010-47d8-afad-32f939664fad",
   "metadata": {},
   "source": [
    "---"
   ]
  },
  {
   "cell_type": "markdown",
   "id": "0240c8a8-54ad-4649-b092-15d731035b38",
   "metadata": {},
   "source": [
    "In the cell below, look at the first 10 or so probabilities we got."
   ]
  },
  {
   "cell_type": "code",
   "execution_count": 65,
   "id": "1d6a39fa-a140-4937-b343-2126666c8ea9",
   "metadata": {
    "tags": []
   },
   "outputs": [
    {
     "data": {
      "text/plain": [
       "array([0.519, 0.523, 0.507, 0.497, 0.486, 0.527, 0.521, 0.49 , 0.525])"
      ]
     },
     "execution_count": 65,
     "metadata": {},
     "output_type": "execute_result"
    }
   ],
   "source": [
    "prob[:9]"
   ]
  },
  {
   "cell_type": "markdown",
   "id": "e1106764-8325-48ca-8e84-7252ca163b42",
   "metadata": {},
   "source": [
    "---"
   ]
  },
  {
   "cell_type": "markdown",
   "id": "a723cefa-941d-4e16-885a-3497ef0c4e85",
   "metadata": {},
   "source": [
    "Now that we have simulated polling data that reflect realistic poll-to-poll variability, we can simulate the elections."
   ]
  },
  {
   "cell_type": "markdown",
   "id": "e194b25b-2d34-4b26-a597-3b05d251b206",
   "metadata": {},
   "source": [
    "(re) Set the number of expected voters."
   ]
  },
  {
   "cell_type": "code",
   "execution_count": 66,
   "id": "0e567560-882b-4bcc-a07b-2344ee09fb37",
   "metadata": {},
   "outputs": [],
   "source": [
    "rng = reset()\n",
    "voters = 100000 # medium city - expect around 100k voter turnout"
   ]
  },
  {
   "cell_type": "markdown",
   "id": "73002f7d-706b-4a8a-bf9d-2101eed4ae23",
   "metadata": {},
   "source": [
    "And conduct and plot the results of the simulated elections! Remember to use your vector of poll probabilities for the probability argument!"
   ]
  },
  {
   "cell_type": "code",
   "execution_count": 67,
   "id": "ff6287f4-dfc8-4d85-a059-557e20f149ee",
   "metadata": {},
   "outputs": [],
   "source": [
    "med_poll = rng.binomial(voters, prob)"
   ]
  },
  {
   "cell_type": "code",
   "execution_count": 68,
   "id": "03b07541-7ba0-4180-ad46-6ac087fa325e",
   "metadata": {},
   "outputs": [
    {
     "data": {
      "text/plain": [
       "array([52193, 52397, 50850, 49711, 48724, 52469, 52196, 48668, 52853,\n",
       "       50502, 49235, 51893, 52079, 51551, 54304, 50227, 48213, 49888,\n",
       "       51980, 50622, 50437, 49489, 50847, 49814, 49424, 52157, 51305,\n",
       "       50001, 51449, 51936, 51043, 49130, 51294, 51216, 51737, 52742,\n",
       "       50221, 51429, 49501, 53770, 52828, 49721, 53365, 49223, 51712,\n",
       "       52889, 51267, 50262, 52060, 52614, 49881, 52357, 53304, 49249,\n",
       "       48401, 54954, 52241, 50154, 48162, 49303, 51348, 49053, 51976,\n",
       "       52728, 51607, 53626, 50282, 49501, 52533, 51566, 52808, 50274,\n",
       "       52289, 49417, 49555, 53205, 47960, 53243, 50772, 50962, 50849,\n",
       "       48870, 51692, 52628, 52117, 49879, 52773, 50973, 51319, 50883,\n",
       "       52886, 52628, 48417, 51731, 51427, 51488, 51780, 50747, 49420,\n",
       "       50982, 50857, 49671, 52390, 51177, 52622, 52867, 50024, 48299,\n",
       "       50078, 50649, 51434, 52874, 48883, 51108, 51323, 50655, 49665,\n",
       "       52179, 49075, 50629, 48157, 47622, 51983, 52206, 49996, 49924,\n",
       "       51066, 49839, 50032, 51144, 50326, 51425, 52720, 51146, 51463,\n",
       "       48809, 53334, 50410, 52134, 52879, 53751, 53706, 51784, 55566,\n",
       "       48906, 48937, 49978, 50439, 50667, 48018, 50677, 49456, 52357,\n",
       "       52717, 52442, 50279, 50776, 47830, 51768, 51500, 52339, 52251,\n",
       "       53168, 48249, 50604, 52343, 50479, 52759, 52296, 52320, 54067,\n",
       "       49930, 53702, 51823, 52613, 53015, 48101, 51284, 51050, 52670,\n",
       "       53351, 50617, 51377, 52116, 49931, 53421, 51620, 47213, 52985,\n",
       "       53436, 53921, 50799, 47311, 51694, 48823, 55227, 50707, 50979,\n",
       "       51992, 50678])"
      ]
     },
     "execution_count": 68,
     "metadata": {},
     "output_type": "execute_result"
    }
   ],
   "source": [
    "med_poll"
   ]
  },
  {
   "cell_type": "markdown",
   "id": "ccdf201b-a6c9-4bce-a363-d01e7c850de0",
   "metadata": {},
   "source": [
    "Notice that Candidate B now pulls off the upset a substantial number of times! "
   ]
  },
  {
   "cell_type": "markdown",
   "id": "4dc973cd-10e4-407b-802b-7012c57e82a6",
   "metadata": {},
   "source": [
    "---"
   ]
  },
  {
   "cell_type": "markdown",
   "id": "39568f0f-9f30-48e0-b1a2-68450c800354",
   "metadata": {},
   "source": [
    "In the cell below, highlight the upsets by overlaying a histogram of B's wins on the main histogram. Pro tip: use `sns.histplot()` instead of `sns.displot()`, and set the binwidths the same for both."
   ]
  },
  {
   "cell_type": "code",
   "execution_count": 95,
   "id": "c3286338-1c28-4b85-bdca-3b2578eadec8",
   "metadata": {},
   "outputs": [
    {
     "data": {
      "text/plain": [
       "<AxesSubplot:ylabel='Count'>"
      ]
     },
     "execution_count": 95,
     "metadata": {},
     "output_type": "execute_result"
    },
    {
     "data": {
      "image/png": "[encoded data removed]",
      "text/plain": [
       "<Figure size 640x480 with 1 Axes>"
      ]
     },
     "metadata": {},
     "output_type": "display_data"
    }
   ],
   "source": [
    "b_poll = med_poll[med_poll < 50000]\n",
    "sns.histplot(med_poll, binwidth = 250)\n",
    "sns.histplot(b_poll, binwidth = 250, color = 'r')"
   ]
  },
  {
   "cell_type": "markdown",
   "id": "ae44337d-539a-4b24-b6cd-71420ddc5798",
   "metadata": {},
   "source": [
    "And compute, in the cell below, the percentage of elections that came out for Candidate B."
   ]
  },
  {
   "cell_type": "code",
   "execution_count": 80,
   "id": "49d7f07b",
   "metadata": {},
   "outputs": [
    {
     "data": {
      "text/plain": [
       "0.255"
      ]
     },
     "execution_count": 80,
     "metadata": {},
     "output_type": "execute_result"
    }
   ],
   "source": [
    "sum(med_poll < 50000)/200"
   ]
  },
  {
   "cell_type": "markdown",
   "id": "c0d704ce-f090-49ee-908f-fa56052ccaff",
   "metadata": {},
   "source": [
    "---"
   ]
  },
  {
   "cell_type": "markdown",
   "id": "0dbdb3d9-1722-4963-b3c8-bdffc993bd86",
   "metadata": {},
   "source": [
    "### Simulating election results based on a multiple polls"
   ]
  },
  {
   "cell_type": "markdown",
   "id": "c7b57547-ac0f-41bf-8c70-bff3dbebfd75",
   "metadata": {},
   "source": [
    "Not all polls are created equally and, in high profile elections such as for US president, many polls by different organizations are conducted to see which way voters are leaning. So faced with, say, three polls with slightly different results, how would we go about forcasting the election?\n",
    "\n",
    "Data scientists (such as the person behind the website [fivethirtyeight](https://fivethirtyeight.com/)) routinely \"grade\" polls. They do this in part by going back to all the recent elections and seeing how close to the election result each poll was. So what would we do if we had the following three polls?\n",
    "\n",
    "- Poll X: 53% to 47%, grade = C\n",
    "- Poll Y: 51% to 49%, grade = A\n",
    "- Poll Z: 51.5% to 48.5%, grade = B\n",
    "\n",
    "One thing we could do is simple take poll Y and ignore the other two. The problem with this is that it ignores the information provided by the other two polls – just because they have lower grade doesn't mean they are useless!"
   ]
  },
  {
   "cell_type": "markdown",
   "id": "b10ee557-4572-452c-a2c6-5b448dc7ac87",
   "metadata": {},
   "source": [
    "The solution is to compute a *weighted average* of the polls, giving each poll more or less influence on the final result based on its grade."
   ]
  },
  {
   "cell_type": "markdown",
   "id": "a08fb5c2-9a6e-4083-9bb2-66a58afa8a9e",
   "metadata": {},
   "source": [
    "#### Weighted Averages"
   ]
  },
  {
   "cell_type": "markdown",
   "id": "c8b9c33e-9e84-4b61-9136-0430fc20c914",
   "metadata": {},
   "source": [
    "Weighted averages are often used to compute final grades in a class. So, for example, if a certain class has a grade breakdown of 50% final paper, 25% quizzes, and 25% attendence, and a certain students grades are 95, 85, and 100, respectively, then the final grade would be computed as "
   ]
  },
  {
   "cell_type": "code",
   "execution_count": 31,
   "id": "661f5d6c-b0c8-43a9-bfd8-91bd9d747181",
   "metadata": {},
   "outputs": [
    {
     "data": {
      "text/plain": [
       "93.75"
      ]
     },
     "execution_count": 31,
     "metadata": {},
     "output_type": "execute_result"
    }
   ],
   "source": [
    "0.5*95 + 0.25*85 + 0.25*100"
   ]
  },
  {
   "cell_type": "markdown",
   "id": "494757dc-8bc5-492d-a72e-db0f0fc0e5cd",
   "metadata": {},
   "source": [
    "Or, if we wanted to be a little more clear in the context of Python script:"
   ]
  },
  {
   "cell_type": "code",
   "execution_count": 32,
   "id": "2d283740-317b-4f72-9545-898a4863c726",
   "metadata": {},
   "outputs": [
    {
     "data": {
      "text/plain": [
       "93.75"
      ]
     },
     "execution_count": 32,
     "metadata": {},
     "output_type": "execute_result"
    }
   ],
   "source": [
    "weights = np.array([0.5, 0.25, 0.25])\n",
    "grades = np.array([95, 85, 100])\n",
    "final_grade = sum(weights * grades)\n",
    "final_grade"
   ]
  },
  {
   "cell_type": "markdown",
   "id": "de9ee17f-6b61-42c2-b454-b5e977b91c08",
   "metadata": {},
   "source": [
    "We can even compute a weighted sum when the weights don't sum to 1.0. All we do is convert the weights so that they *do* sum to 1.0 by dividing by the sum of the weights. So, for example, if the above weights were given as 5, 2.5, and 2.5, we could do the following:"
   ]
  },
  {
   "cell_type": "code",
   "execution_count": 33,
   "id": "7d825219-f313-4ff9-be5f-5d2dcd0c1878",
   "metadata": {},
   "outputs": [
    {
     "data": {
      "text/plain": [
       "93.75"
      ]
     },
     "execution_count": 33,
     "metadata": {},
     "output_type": "execute_result"
    }
   ],
   "source": [
    "weights = np.array([5, 2.5, 2.5])\n",
    "sum_of_w = np.sum(weights)\n",
    "grades = np.array([95, 85, 100])\n",
    "final_grade = np.sum(weights * grades)/sum_of_w\n",
    "final_grade"
   ]
  },
  {
   "cell_type": "markdown",
   "id": "11b09e72-8bf6-4edb-93c2-05e1749baad8",
   "metadata": {},
   "source": [
    "(Notice that, in the first example, we did the same thing in our heads when we turned 50% into 0.5, etc.)"
   ]
  },
  {
   "cell_type": "markdown",
   "id": "3dc86d6a-a033-4d8e-be7b-7c224145dc96",
   "metadata": {},
   "source": [
    "#### Weighted Polls by Grade"
   ]
  },
  {
   "cell_type": "markdown",
   "id": "995d9a0f-759e-414a-aa47-edfdbe2629c8",
   "metadata": {},
   "source": [
    "To simulate an election based on a weighted sum of polls, we need to convert the letter grades into numbers. The choice here is up to us and somewhat arbitrary. Let's start with the familiar gpa scale where an A is a 4, a B is a 3, etc."
   ]
  },
  {
   "cell_type": "markdown",
   "id": "bc299b72-aca7-46de-b661-7d1a828499c5",
   "metadata": {},
   "source": [
    "Now that we've figured out our weights, we just need to repeat all the above steps, conducting each poll separately, weighting it, and then combining the results. "
   ]
  },
  {
   "cell_type": "markdown",
   "id": "d55a7d37-57f7-4542-a62b-4316ee9c931b",
   "metadata": {},
   "source": [
    "Define the probalities, weights, and other things:"
   ]
  },
  {
   "cell_type": "code",
   "execution_count": 34,
   "id": "5c775489-b7ac-4b47-a496-b4ada481007d",
   "metadata": {},
   "outputs": [],
   "source": [
    "px, py, pz = 0.53, 0.51, 0.515        # actual poll results\n",
    "wx, wy, wz = 2, 4, 3                  # letter grade weights\n",
    "sum_of_w = wx + wy + wz               # sum of the weights\n",
    "samp_sz = 2000                        # poll sample size\n",
    "n_sims = 20000                        # number of simulations to run"
   ]
  },
  {
   "cell_type": "markdown",
   "id": "a0554e0d-5a60-420d-b524-1cb7de618c40",
   "metadata": {},
   "source": [
    "Conduct the polls."
   ]
  },
  {
   "cell_type": "code",
   "execution_count": 35,
   "id": "dce4d658-f989-43a9-9526-5447691380cf",
   "metadata": {},
   "outputs": [],
   "source": [
    "x_poll_results = rng.binomial(samp_sz, px, n_sims) # polling results for x\n",
    "y_poll_results = rng.binomial(samp_sz, py, n_sims) # polling results for y\n",
    "z_poll_results = rng.binomial(samp_sz, pz, n_sims) # polling results for z"
   ]
  },
  {
   "cell_type": "markdown",
   "id": "d6d9e5f3-999f-4b0b-977d-e7104560e5f6",
   "metadata": {},
   "source": [
    "Convert the poll totals to probabilities."
   ]
  },
  {
   "cell_type": "code",
   "execution_count": 36,
   "id": "3b9b6d65-5fc1-4d21-9ffc-e6fd90c11e89",
   "metadata": {},
   "outputs": [],
   "source": [
    "x_poll_probs = x_poll_results/samp_sz            # probabilities for x\n",
    "y_poll_probs = y_poll_results/samp_sz            # probabilities for y\n",
    "z_poll_probs = z_poll_results/samp_sz            # probabilities for z"
   ]
  },
  {
   "cell_type": "raw",
   "id": "e90d91ff-d2c7-48eb-b567-db7ad0ad4822",
   "metadata": {},
   "source": [
    "Set the number of voters."
   ]
  },
  {
   "cell_type": "code",
   "execution_count": 37,
   "id": "4e1dc3a9-9e71-4b22-a1c0-4140e68be6c7",
   "metadata": {},
   "outputs": [],
   "source": [
    "n_voters = 100000 # medium city - expect around 100k voter turnout"
   ]
  },
  {
   "cell_type": "markdown",
   "id": "2053389f-1fda-46a9-9aa4-38a79a0a8d1f",
   "metadata": {},
   "source": [
    "Simulate sets of elections, separately for each poll."
   ]
  },
  {
   "cell_type": "code",
   "execution_count": 38,
   "id": "3bfd80a1-3821-45ce-8986-0a9948cc11bb",
   "metadata": {},
   "outputs": [],
   "source": [
    "elec_results_x = rng.binomial(n_voters, x_poll_probs, n_sims)\n",
    "elec_results_y = rng.binomial(n_voters, y_poll_probs, n_sims)\n",
    "elec_results_z = rng.binomial(n_voters, z_poll_probs, n_sims)"
   ]
  },
  {
   "cell_type": "markdown",
   "id": "fdeb3f48-a251-452f-888a-ee4e8542d727",
   "metadata": {},
   "source": [
    "Compute the weighted average."
   ]
  },
  {
   "cell_type": "code",
   "execution_count": 39,
   "id": "543f03a9-a57a-47de-bfef-9596230ff5f3",
   "metadata": {},
   "outputs": [],
   "source": [
    "elec_results = (wx*elec_results_x + wy*elec_results_y + wz*elec_results_z) / sum_of_w"
   ]
  },
  {
   "cell_type": "markdown",
   "id": "6fc572a0-e5d1-4b73-afff-c087566f7490",
   "metadata": {},
   "source": [
    "And plot the results!!!"
   ]
  },
  {
   "cell_type": "code",
   "execution_count": 40,
   "id": "940bd109-f889-4b30-8675-5f15e290bb30",
   "metadata": {},
   "outputs": [
    {
     "data": {
      "text/plain": [
       "<seaborn.axisgrid.FacetGrid at 0x7fe84b204520>"
      ]
     },
     "execution_count": 40,
     "metadata": {},
     "output_type": "execute_result"
    },
    {
     "data": {
      "image/png": "[encoded data removed]",
      "text/plain": [
       "<Figure size 500x500 with 1 Axes>"
      ]
     },
     "metadata": {},
     "output_type": "display_data"
    }
   ],
   "source": [
    "sns.displot(elec_results)"
   ]
  },
  {
   "cell_type": "markdown",
   "id": "1d4d5746-9ea0-4065-80a8-aad7a07ce0f1",
   "metadata": {},
   "source": [
    "Does this look reasonable? Since we now have two polls indicating > 51% support for Candidate A, we'd expect the distribution to get pulled a little higher, and therefor Candidate B having fewer upsets..."
   ]
  },
  {
   "cell_type": "markdown",
   "id": "1f9558df-adab-476a-b246-8d1dbaffcd62",
   "metadata": {},
   "source": [
    "---"
   ]
  },
  {
   "cell_type": "markdown",
   "id": "5e2e12f0-2190-4bc9-9ca7-4664f3097e07",
   "metadata": {},
   "source": [
    "Let's do two more quick reality checks. \n",
    "\n",
    "First, if we change the weights and/or the initial probabilities dramatically, we should be able to see a clear and sensible change in the outcome.\n",
    "\n",
    "Go ahead and do this, and describe what you did and what happened as a result:"
   ]
  },
  {
   "cell_type": "markdown",
   "id": "0832d9cc-40ff-4012-915f-060401fb3d6d",
   "metadata": {},
   "source": []
  },
  {
   "cell_type": "markdown",
   "id": "3cc1abeb-8145-4100-b163-3e6fc7ec3bf1",
   "metadata": {},
   "source": [
    "For a second reality check, consider that, if our simulation worked, then *the mean number of votes for Candidate A should be close to that predicted by the weighted average of the initial probabilities!"
   ]
  },
  {
   "cell_type": "markdown",
   "id": "5d31706f-79dd-4c59-a81e-1a07158ef9a0",
   "metadata": {},
   "source": [
    "Use the cells below to make this comparison."
   ]
  },
  {
   "cell_type": "markdown",
   "id": "7604d9bd-565f-4495-b593-be1974dc220b",
   "metadata": {},
   "source": [
    "Mean number of votes for Candidate A:"
   ]
  },
  {
   "cell_type": "code",
   "execution_count": 97,
   "id": "c1ed5da1-9c74-4a50-96c1-9efe97ecdfec",
   "metadata": {
    "tags": []
   },
   "outputs": [
    {
     "data": {
      "text/plain": [
       "51147.635"
      ]
     },
     "execution_count": 97,
     "metadata": {},
     "output_type": "execute_result"
    }
   ],
   "source": [
    "med_poll.mean()"
   ]
  },
  {
   "cell_type": "markdown",
   "id": "8def37b8-daee-4607-b8e3-7f1c4b5c0dae",
   "metadata": {},
   "source": [
    "Weighted sum of the initial probabilities:"
   ]
  },
  {
   "cell_type": "code",
   "execution_count": 101,
   "id": "35de8d7f-b709-4b67-bbab-1cf096f60f25",
   "metadata": {},
   "outputs": [
    {
     "data": {
      "text/plain": [
       "0.5161111111111111"
      ]
     },
     "execution_count": 101,
     "metadata": {},
     "output_type": "execute_result"
    }
   ],
   "source": [
    "results = np.array([0.53, 0.51, 0.515])\n",
    "weights = np.array([2, 4, 3])\n",
    "sum(results * weights)/sum(weights)"
   ]
  },
  {
   "cell_type": "markdown",
   "id": "dc5b194d-734e-421d-8951-6debba5e43ca",
   "metadata": {},
   "source": [
    "Do they check out?"
   ]
  },
  {
   "cell_type": "markdown",
   "id": "07776239-e01e-49bf-a3c4-02b27ab51791",
   "metadata": {},
   "source": [
    "They're pretty close!"
   ]
  },
  {
   "cell_type": "markdown",
   "id": "c87a0d17-4476-4343-8542-fc0e97bbe34a",
   "metadata": {},
   "source": [
    "---"
   ]
  }
 ],
 "metadata": {
  "kernelspec": {
   "display_name": "Python 3 (ipykernel)",
   "language": "python",
   "name": "python3"
  },
  "language_info": {
   "codemirror_mode": {
    "name": "ipython",
    "version": 3
   },
   "file_extension": ".py",
   "mimetype": "text/x-python",
   "name": "python",
   "nbconvert_exporter": "python",
   "pygments_lexer": "ipython3",
   "version": "3.9.13"
  }
 },
 "nbformat": 4,
 "nbformat_minor": 5
}
