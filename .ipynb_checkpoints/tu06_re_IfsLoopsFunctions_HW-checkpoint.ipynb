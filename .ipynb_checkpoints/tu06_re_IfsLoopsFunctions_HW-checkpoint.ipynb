{
 "cells": [
  {
   "cell_type": "markdown",
   "id": "81d19d16",
   "metadata": {},
   "source": [
    "   # Ifs, loops, and function homework"
   ]
  },
  {
   "cell_type": "markdown",
   "id": "bd745db6",
   "metadata": {},
   "source": [
    "## 1. A function to reverse a string \n",
    "\n",
    "Write and test a function that reverses a string entered by a user. This function will have one input value (a string) and one output value (also a string).\n",
    "\n",
    "Test your function on, among other things, Napoleon's quote 'able was i ere i saw elba'"
   ]
  },
  {
   "cell_type": "code",
   "execution_count": 3,
   "id": "551a9bcb",
   "metadata": {},
   "outputs": [
    {
     "name": "stdout",
     "output_type": "stream",
     "text": [
      "Enter a string:able was i ere i saw elba\n",
      "able was i ere i saw elba\n"
     ]
    }
   ],
   "source": [
    "def reverse() : \n",
    "    string = input('Enter a string:')\n",
    "    backwards = ''\n",
    "    backwards_lst = []\n",
    "    for i in reversed(string) :    \n",
    "        backwards_lst.append(i)\n",
    "    backwards_lst = backwards.join(backwards_lst)\n",
    "    print(backwards_lst)\n",
    "\n",
    "reverse()  "
   ]
  },
  {
   "cell_type": "markdown",
   "id": "72bc6f2e",
   "metadata": {},
   "source": [
    "*Optional challenge*: run the above on \"race car\" and then fix the resulting string."
   ]
  },
  {
   "cell_type": "code",
   "execution_count": 4,
   "id": "7abd516b",
   "metadata": {},
   "outputs": [
    {
     "name": "stdout",
     "output_type": "stream",
     "text": [
      "Enter a string:race car\n",
      "rac ecar\n"
     ]
    }
   ],
   "source": [
    "reverse()"
   ]
  },
  {
   "cell_type": "markdown",
   "id": "f351711e",
   "metadata": {},
   "source": [
    "## 2. Determine if a number is prime\n",
    "\n",
    "Write some code to test whether a number is prime or not, a prime number being an integer that is evenly divisible only by 1 and itself. \n",
    "\n",
    "Hint: another way to think about a prime number is that, if the smallest number (other than 1) that divides evenly into a number *is* that number, than the number is a prime.\n",
    "\n",
    "The easiest solution involves one `while` loop and one `if` test."
   ]
  },
  {
   "cell_type": "code",
   "execution_count": 5,
   "id": "4bef5c5c",
   "metadata": {},
   "outputs": [],
   "source": [
    "def is_prime(num): \n",
    "  if num ==2: \n",
    "    print(num, 'is not a prime number')\n",
    "  elif num > 1:\n",
    "      for i in range(2, num):\n",
    "        if (num % i) == 0:\n",
    "          print(num, \"is not a prime number\")\n",
    "          break\n",
    "      else:\n",
    "          print(num, \"is a prime number\")\n",
    "  else:\n",
    "      print(num, \"is not a prime number\")"
   ]
  },
  {
   "cell_type": "markdown",
   "id": "97515edc",
   "metadata": {},
   "source": [
    "## 3. Find the first 10 primes\n",
    "\n",
    "Extend your code above to find the first 10 prime numbers. This will involve wrapping your existing code in another \"outer\" loop.\n"
   ]
  },
  {
   "cell_type": "code",
   "execution_count": 6,
   "id": "f518030e",
   "metadata": {},
   "outputs": [
    {
     "name": "stdout",
     "output_type": "stream",
     "text": [
      "0 is not a prime number\n",
      "1 is not a prime number\n",
      "2 is not a prime number\n",
      "3 is a prime number\n",
      "4 is not a prime number\n",
      "5 is a prime number\n",
      "6 is not a prime number\n",
      "7 is a prime number\n",
      "8 is not a prime number\n",
      "9 is not a prime number\n"
     ]
    }
   ],
   "source": [
    "for i in range(10): \n",
    "    is_prime(i)"
   ]
  },
  {
   "cell_type": "markdown",
   "id": "13c2c9d2",
   "metadata": {},
   "source": [
    "## 4. Make a function to compute the first n primes\n",
    "\n",
    "Functionalize (is that a word?) your above code. A user should be able to call your code with one integer argument and get a list back containing that number of primes. Make sure your function handles inputs of an incorrect type gracefully. You should also warn the user if they enter a really big number (which could take a long time...), and give them the option of either bailing or entering a different number."
   ]
  },
  {
   "cell_type": "code",
   "execution_count": 61,
   "id": "2b2f95a0",
   "metadata": {},
   "outputs": [],
   "source": [
    "def prime(num) : \n",
    "    try: \n",
    "        if num > 500: \n",
    "            q = input('this number is quite big it\\'ll take a while. Do you want to quit?')\n",
    "            if q.lower() == 'yes': \n",
    "                print('Bye!')\n",
    "                return\n",
    "        else:\n",
    "            prime_list = []\n",
    "            for num in range(num + 1):\n",
    "                if num > 2:\n",
    "                    for i in range(2, num):\n",
    "                        if (num % i) == 0:\n",
    "                            break\n",
    "                    else:\n",
    "                        prime_list.append(num)\n",
    "            print(prime_list)\n",
    "    except TypeError as type_err: \n",
    "        print('hey! looks like your input wasn\\'t the right type.')"
   ]
  },
  {
   "cell_type": "code",
   "execution_count": 64,
   "id": "17755942",
   "metadata": {},
   "outputs": [
    {
     "name": "stdout",
     "output_type": "stream",
     "text": [
      "[3, 5, 7, 11, 13, 17, 19, 23, 29, 31, 37, 41, 43, 47, 53, 59, 61, 67, 71, 73, 79, 83, 89]\n"
     ]
    }
   ],
   "source": [
    "prime(90)"
   ]
  }
 ],
 "metadata": {
  "kernelspec": {
   "display_name": "Python 3 (ipykernel)",
   "language": "python",
   "name": "python3"
  },
  "language_info": {
   "codemirror_mode": {
    "name": "ipython",
    "version": 3
   },
   "file_extension": ".py",
   "mimetype": "text/x-python",
   "name": "python",
   "nbconvert_exporter": "python",
   "pygments_lexer": "ipython3",
   "version": "3.9.13"
  }
 },
 "nbformat": 4,
 "nbformat_minor": 5
}
