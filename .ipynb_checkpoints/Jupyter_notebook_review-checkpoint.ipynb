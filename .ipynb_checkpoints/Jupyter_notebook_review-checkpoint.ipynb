{
 "cells": [
  {
   "cell_type": "code",
   "execution_count": 4,
   "id": "03639c12",
   "metadata": {},
   "outputs": [
    {
     "name": "stdout",
     "output_type": "stream",
     "text": [
      "What's your name?marifer\n",
      "Hi marifer!\n"
     ]
    }
   ],
   "source": [
    "name = input('What\\'s your name?')\n",
    "print('Hi '+ name+'!')"
   ]
  },
  {
   "cell_type": "markdown",
   "id": "56a60190",
   "metadata": {},
   "source": [
    "# Here's a header\n",
    "\n",
    "Here's some text with a word in **bold**\n",
    "\n",
    "## Here's a sub-header\n",
    "\n",
    "*Here's some italic text.*\n",
    "\n",
    "And here\n",
    "\n",
    "* is\n",
    "* a\n",
    "* bullet\n",
    "* list"
   ]
  },
  {
   "cell_type": "markdown",
   "id": "c22057e7",
   "metadata": {},
   "source": [
    "Shortcuts: \n",
    "\n",
    "* esc to jump to command mode\n",
    "* m to convert the cell to a markdown cell, and\n",
    "* enter to jump back to edit mode.\n",
    "* y to convert back to code\n",
    "\n",
    "Some useful command mode keyboard shortcuts (in no particular order) are:\n",
    "\n",
    "* a - insert new cell above\n",
    "* b - insert new cell about\n",
    "* c - copy cell\n",
    "* x - cut cell\n",
    "* v - paste cell below current cell\n",
    "* V (shift V) - paste cell above current cell\n",
    "* d d (double click the d key) - delete cell"
   ]
  }
 ],
 "metadata": {
  "kernelspec": {
   "display_name": "Python 3 (ipykernel)",
   "language": "python",
   "name": "python3"
  },
  "language_info": {
   "codemirror_mode": {
    "name": "ipython",
    "version": 3
   },
   "file_extension": ".py",
   "mimetype": "text/x-python",
   "name": "python",
   "nbconvert_exporter": "python",
   "pygments_lexer": "ipython3",
   "version": "3.10.7"
  }
 },
 "nbformat": 4,
 "nbformat_minor": 5
}
